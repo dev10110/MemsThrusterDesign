{
 "cells": [
  {
   "cell_type": "code",
   "execution_count": 17,
   "metadata": {},
   "outputs": [],
   "source": [
    "import numpy as np\n",
    "import gpkit\n",
    "from gpkit import Model, Variable"
   ]
  },
  {
   "cell_type": "code",
   "execution_count": 18,
   "metadata": {},
   "outputs": [],
   "source": [
    "#define a module describing the water\n",
    "class Material():\n",
    "    def __init__(self, name, rho, sigma_yield, sigma_ultimate):\n",
    "        self.name = name\n",
    "        self.rho  = rho\n",
    "        self.sigma_yield = sigma_yield\n",
    "        self.sigma_ultimate = sigma_ultimate\n",
    "        \n",
    "    def __str__(self):\n",
    "        string = f\"Material: {self.name}\"\n",
    "        \n",
    "        return string\n",
    "\n",
    "\n",
    "class Water(Model):\n",
    "    def setup(self):\n",
    "        rho = Variable(\"\\\\rho\", 1000, \"kg/m^3\", \"Water density\")\n",
    "        m   = self.m = Variable(\"m\", \"g\", \"Mass of water\")\n",
    "        V   = self.V = Variable(\"V\", \"L\", \"Volume of water\")\n",
    "        \n",
    "        V_min = 0.35*gpkit.ureg.L\n",
    "        \n",
    "        return [m == rho*V, V >= V_min]\n",
    "    \n",
    "class GeneralTank(Model):\n",
    "    def setup(self, P, material):\n",
    "        \n",
    "        #assumes the P is the maximum operating pressure \n",
    "        constraints = []\n",
    "        \n",
    "        \n",
    "        #design\n",
    "        r = self.r = Variable(\"r\", \"cm\", \"Tank Radius\")\n",
    "        t = self.t = Variable(\"t\", \"mm\", \"Tank Thickness\")\n",
    "        l = self.l = Variable(\"l\", \"cm\", \"Tank Length\")\n",
    "        \n",
    "        self.V_internal = np.pi*r**2*l\n",
    "        constraints += [r >= 10*t] #ensures thin wall approx can be used. \n",
    "        \n",
    "        #pressures\n",
    "        FOSY = Variable(\"FOSY\", 1.0, \"\", \"Factor of Safety: Yield\")\n",
    "        FOSU = Variable(\"FOSU\", 1.0, \"\", \"Factor of Safety: Ultimate\")\n",
    "        jb   = Variable(\"j_{burst}\", 1.5, \"\", \"burst factor\")\n",
    "        jp   = Variable(\"j_{proof}\", 1.25, \"\", \"proof factor\")\n",
    "        \n",
    "        P_burst = self.P_burst = Variable(\"P_{burst}\", \"bar\", \"burst pressure\")\n",
    "        P_proof = self.P_proof = Variable(\"P_{proof}\", \"bar\", \"proof pressure\")\n",
    "        \n",
    "        \n",
    "        constraints += [P_burst >= jb*(1+FOSU)*P]\n",
    "        constraints += [P_proof >= jp*(1+FOSY)*P]\n",
    "        \n",
    "        #stresses\n",
    "        sigma_vm_p = self.sigma_vm_p = Variable(\"\\\\sigma_{vm, proof}\", \"MPa\", \"Proof Von misses stress in tank\")\n",
    "        sigma_vm_b = self.sigma_vm_b = Variable(\"\\\\sigma_{vm, burst}\", \"MPa\", \"Burst Von misses stress in tank\")\n",
    "        \n",
    "        constraints += [sigma_vm_p == (np.sqrt(3)/2)*P_proof*r/t]\n",
    "        constraints += [sigma_vm_b == (np.sqrt(3)/2)*P_burst*r/t]\n",
    "        \n",
    "        constraints += [sigma_vm_p <= material.sigma_yield]\n",
    "        constraints += [sigma_vm_b <= material.sigma_ultimate]\n",
    "        \n",
    "        #mass\n",
    "        m = self.m = Variable(\"m\", \"g\", \"Mass of tank\")\n",
    "        \n",
    "        rho = self.rho = material.rho\n",
    "        \n",
    "        #mass calculator\n",
    "        constraints += [m>= rho*(2*np.pi*r*t*l + 2*np.pi*r**2*t)]\n",
    "        \n",
    "        return constraints\n",
    "\n",
    "rho_al = Variable(\"\\\\rho_{Al}\", 2.7,\"g/cm^3\",\"Al tank density\")\n",
    "sigma_yield = Variable(\"\\\\sigma_{y, al}\", 276, \"MPa\", \"Al yield strength\")\n",
    "sigma_ultimate = Variable(\"\\\\sigma_{u, al}\", 310, \"MPa\", \"Al ultimate strength\")\n",
    "al = Material('Al', rho=rho_al, sigma_yield=sigma_yield, sigma_ultimate = sigma_ultimate)\n",
    "\n",
    "\n",
    "class MainTank(Model):\n",
    "    def setup(self):\n",
    "        \n",
    "        #define operation condition\n",
    "        P_expected = self.P_expected = Variable(\"P_{expected}\", 4, \"bar\", \"Maximum expected pressure\")\n",
    "        \n",
    "        #define tank material\n",
    "        self.material = al\n",
    "        \n",
    "        #create tank\n",
    "        tank = self.tank = GeneralTank(P_expected, material = self.material)\n",
    "        \n",
    "        #create water\n",
    "        water = Water()\n",
    "        #assemble components\n",
    "        components = self.components = [water, tank]\n",
    "        \n",
    "        constraints = []        \n",
    "        constraints += components\n",
    "        \n",
    "        #require water to fit in tank\n",
    "        constraints += [water.V <= tank.V_internal]\n",
    "        #require tank to be smaller than 1U\n",
    "        constraints += [tank.l <= 10*gpkit.ureg.cm]\n",
    "        constraints += [tank.r <=  5*gpkit.ureg.cm]\n",
    "        \n",
    "        \n",
    "        #determine total mass\n",
    "        m = self.m = Variable(\"m\", \"g\", \" Main Tank Mass\")\n",
    "        \n",
    "        constraints += [m >= sum(comp.m for comp in components)]\n",
    "        \n",
    "        return constraints\n",
    "    \n",
    "    \n",
    "class Helium(Model):\n",
    "    def setup(self, P, V, m, T):\n",
    "        #describes the ideal gas law of helium\n",
    "        constraints = []\n",
    "        #gas constants\n",
    "        R = 8.31446261815324*(gpkit.ureg.J/gpkit.ureg.K)/gpkit.ureg.mol\n",
    "        M = 4.002602*gpkit.ureg.g/gpkit.ureg.mol\n",
    "        \n",
    "        self.m = m\n",
    "        \n",
    "        constraints += [P*V == m*R*T/M]\n",
    "        \n",
    "        return constraints\n",
    "    \n",
    "class HeliumTank(Model):\n",
    "    def setup(self):\n",
    "        \n",
    "        constraints = []\n",
    "        components = self.components = []\n",
    "        \n",
    "        #create tank\n",
    "        P_He_i = self.P_He_i = Variable(\"P_{He, initial}\", \"bar\", \"Initial maximum expected pressure of Helium Tank\")\n",
    "        \n",
    "        tank = self.tank=GeneralTank(P_He_i, material = al)\n",
    "        components += [tank]\n",
    "        \n",
    "        #create helium\n",
    "        m_He = self.m_He = Variable(\"m_{He}\", \"g\", \"Mass of Helium\")\n",
    "        T = self.T = Variable(\"T\", \"K\", \"Helium Temperature\")\n",
    "        \n",
    "        constraints += [m_He >= 1*gpkit.ureg.g] #define minimum mass of Helium\n",
    "        constraints += [T >= 200*gpkit.ureg.K, T <= 300*gpkit.ureg.K]\n",
    "        \n",
    "        He_initial = Helium(P = P_He_i, V = tank.V_internal, m = m_He, T = T)\n",
    "        \n",
    "        self.He_initial = He_initial\n",
    "\n",
    "        components += [He_initial]\n",
    "        \n",
    "        #determine total mass\n",
    "        m = self.m = Variable(\"m\", \"g\", \" Main Tank Mass\")\n",
    "        \n",
    "        constraints += [m >= sum(comp.m for comp in components)]\n",
    "        \n",
    "        constraints += components\n",
    "        \n",
    "        return constraints\n",
    "        \n",
    "        "
   ]
  },
  {
   "cell_type": "code",
   "execution_count": 26,
   "metadata": {},
   "outputs": [],
   "source": [
    "class TankSystem(Model):\n",
    "    def setup(self):\n",
    "        \n",
    "        constraints = []\n",
    "        \n",
    "        mainTank = MainTank()\n",
    "        heliumTank = HeliumTank()\n",
    "        \n",
    "        components = self.components = [mainTank, heliumTank]\n",
    "        constraints += [components]\n",
    "        \n",
    "        #create final helium, but dont include in mass breakdown\n",
    "        He_final = Helium(P = mainTank.P_expected, V = mainTank.tank.V_internal, m = heliumTank.m_He, T = heliumTank.T)\n",
    "        \n",
    "        constraints += [He_final]\n",
    "        #constraints += [He_initial.m >= 1*gpkit.ureg.g]\n",
    "\n",
    "        \n",
    "        m = self.m = Variable(\"m\", \"g\", \"mass of full tank system\")\n",
    "        constraints += [m >= sum(comp.m for comp in components)]\n",
    "        \n",
    "        return constraints"
   ]
  },
  {
   "cell_type": "code",
   "execution_count": null,
   "metadata": {},
   "outputs": [],
   "source": []
  },
  {
   "cell_type": "code",
   "execution_count": 27,
   "metadata": {},
   "outputs": [],
   "source": [
    "ht = HeliumTank()\n",
    "prob = Model(ht.m, ht)"
   ]
  },
  {
   "cell_type": "code",
   "execution_count": 28,
   "metadata": {},
   "outputs": [
    {
     "data": {
      "text/latex": [
       "$$\\begin{array}{ll} \\text{}\n",
       "\\text{minimize}\n",
       "    & {m}_{HeliumTank.3} \\\\\n",
       "\\text{subject to}\n",
       "    & HeliumTank_{3} \\\\\n",
       "\\end{array}$$"
      ],
      "text/plain": [
       "[[gpkit.PosynomialInequality(m_{He}_HeliumTank.3 >= 1),\n",
       "  gpkit.PosynomialInequality(T_HeliumTank.3 >= 200),\n",
       "  gpkit.PosynomialInequality(T_HeliumTank.3 <= 300),\n",
       "  gpkit.PosynomialInequality(m_HeliumTank.3 >= m_HeliumTank.3/GeneralTank + m_{He}_HeliumTank.3),\n",
       "  [gpkit.PosynomialInequality(r_HeliumTank.3/GeneralTank >= 10*t_HeliumTank.3/GeneralTank),\n",
       "   gpkit.PosynomialInequality(P_{burst}_HeliumTank.3/GeneralTank >= FOSU_HeliumTank.3/GeneralTank*P_{He, initial}_HeliumTank.3*j_{burst}_HeliumTank.3/GeneralTank + P_{He, initial}_HeliumTank.3*j_{burst}_HeliumTank.3/GeneralTank),\n",
       "   gpkit.PosynomialInequality(P_{proof}_HeliumTank.3/GeneralTank >= FOSY_HeliumTank.3/GeneralTank*P_{He, initial}_HeliumTank.3*j_{proof}_HeliumTank.3/GeneralTank + P_{He, initial}_HeliumTank.3*j_{proof}_HeliumTank.3/GeneralTank),\n",
       "   gpkit.MonomialEquality(\\sigma_{vm, proof}_HeliumTank.3/GeneralTank = 0.866*P_{proof}_HeliumTank.3/GeneralTank*r_HeliumTank.3/GeneralTank*t_HeliumTank.3/GeneralTank**-1),\n",
       "   gpkit.MonomialEquality(\\sigma_{vm, burst}_HeliumTank.3/GeneralTank = 0.866*P_{burst}_HeliumTank.3/GeneralTank*r_HeliumTank.3/GeneralTank*t_HeliumTank.3/GeneralTank**-1),\n",
       "   gpkit.PosynomialInequality(\\sigma_{vm, proof}_HeliumTank.3/GeneralTank <= \\sigma_{y, al}),\n",
       "   gpkit.PosynomialInequality(\\sigma_{vm, burst}_HeliumTank.3/GeneralTank <= \\sigma_{u, al}),\n",
       "   gpkit.PosynomialInequality(m_HeliumTank.3/GeneralTank >= 6.28*\\rho_{Al}*l_HeliumTank.3/GeneralTank*r_HeliumTank.3/GeneralTank*t_HeliumTank.3/GeneralTank + 6.28*\\rho_{Al}*r_HeliumTank.3/GeneralTank**2*t_HeliumTank.3/GeneralTank)],\n",
       "  [gpkit.MonomialEquality(3.14*P_{He, initial}_HeliumTank.3*l_HeliumTank.3/GeneralTank*r_HeliumTank.3/GeneralTank**2 = 2.08*T_HeliumTank.3*m_{He}_HeliumTank.3)]]]"
      ]
     },
     "execution_count": 28,
     "metadata": {},
     "output_type": "execute_result"
    }
   ],
   "source": [
    "prob"
   ]
  },
  {
   "cell_type": "code",
   "execution_count": 29,
   "metadata": {},
   "outputs": [
    {
     "ename": "ValueError",
     "evalue": "Geometric Program is not fully bounded:\n  \\sigma_{y, al} has no upper bound\n  \\sigma_{u, al} has no upper bound\n  \\rho_{Al} has no lower bound",
     "output_type": "error",
     "traceback": [
      "\u001b[0;31m---------------------------------------------------------------------------\u001b[0m",
      "\u001b[0;31mValueError\u001b[0m                                Traceback (most recent call last)",
      "\u001b[0;32m<ipython-input-29-613465fcbb4d>\u001b[0m in \u001b[0;36m<module>\u001b[0;34m\u001b[0m\n\u001b[0;32m----> 1\u001b[0;31m \u001b[0mprob\u001b[0m\u001b[0;34m.\u001b[0m\u001b[0msolve\u001b[0m\u001b[0;34m(\u001b[0m\u001b[0;34m)\u001b[0m\u001b[0;34m\u001b[0m\u001b[0;34m\u001b[0m\u001b[0m\n\u001b[0m",
      "\u001b[0;32m~/anaconda3/lib/python3.6/site-packages/gpkit/constraints/prog_factories.py\u001b[0m in \u001b[0;36msolvefn\u001b[0;34m(self, solver, verbosity, skipsweepfailures, **kwargs)\u001b[0m\n\u001b[1;32m    121\u001b[0m                       solver, verbosity, **kwargs)\n\u001b[1;32m    122\u001b[0m         \u001b[0;32melse\u001b[0m\u001b[0;34m:\u001b[0m\u001b[0;34m\u001b[0m\u001b[0;34m\u001b[0m\u001b[0m\n\u001b[0;32m--> 123\u001b[0;31m             \u001b[0mself\u001b[0m\u001b[0;34m.\u001b[0m\u001b[0mprogram\u001b[0m\u001b[0;34m,\u001b[0m \u001b[0mprogsolve\u001b[0m \u001b[0;34m=\u001b[0m \u001b[0mgenfunction\u001b[0m\u001b[0;34m(\u001b[0m\u001b[0mself\u001b[0m\u001b[0;34m)\u001b[0m\u001b[0;34m\u001b[0m\u001b[0;34m\u001b[0m\u001b[0m\n\u001b[0m\u001b[1;32m    124\u001b[0m             \u001b[0mresult\u001b[0m \u001b[0;34m=\u001b[0m \u001b[0mprogsolve\u001b[0m\u001b[0;34m(\u001b[0m\u001b[0msolver\u001b[0m\u001b[0;34m,\u001b[0m \u001b[0mverbosity\u001b[0m\u001b[0;34m,\u001b[0m \u001b[0;34m**\u001b[0m\u001b[0mkwargs\u001b[0m\u001b[0;34m)\u001b[0m\u001b[0;34m\u001b[0m\u001b[0;34m\u001b[0m\u001b[0m\n\u001b[1;32m    125\u001b[0m             \u001b[0msolution\u001b[0m\u001b[0;34m.\u001b[0m\u001b[0mappend\u001b[0m\u001b[0;34m(\u001b[0m\u001b[0mresult\u001b[0m\u001b[0;34m)\u001b[0m\u001b[0;34m\u001b[0m\u001b[0;34m\u001b[0m\u001b[0m\n",
      "\u001b[0;32m~/anaconda3/lib/python3.6/site-packages/gpkit/constraints/prog_factories.py\u001b[0m in \u001b[0;36mprogramify\u001b[0;34m(self, constants, **kwargs)\u001b[0m\n\u001b[1;32m     78\u001b[0m             \u001b[0;32mif\u001b[0m \u001b[0mlinked\u001b[0m\u001b[0;34m:\u001b[0m\u001b[0;34m\u001b[0m\u001b[0;34m\u001b[0m\u001b[0m\n\u001b[1;32m     79\u001b[0m                 \u001b[0mevaluate_linked\u001b[0m\u001b[0;34m(\u001b[0m\u001b[0mconstants\u001b[0m\u001b[0;34m,\u001b[0m \u001b[0mlinked\u001b[0m\u001b[0;34m)\u001b[0m\u001b[0;34m\u001b[0m\u001b[0;34m\u001b[0m\u001b[0m\n\u001b[0;32m---> 80\u001b[0;31m         \u001b[0mprog\u001b[0m \u001b[0;34m=\u001b[0m \u001b[0mprogram\u001b[0m\u001b[0;34m(\u001b[0m\u001b[0mself\u001b[0m\u001b[0;34m.\u001b[0m\u001b[0mcost\u001b[0m\u001b[0;34m,\u001b[0m \u001b[0mself\u001b[0m\u001b[0;34m,\u001b[0m \u001b[0mconstants\u001b[0m\u001b[0;34m,\u001b[0m \u001b[0;34m**\u001b[0m\u001b[0mkwargs\u001b[0m\u001b[0;34m)\u001b[0m\u001b[0;34m\u001b[0m\u001b[0;34m\u001b[0m\u001b[0m\n\u001b[0m\u001b[1;32m     81\u001b[0m         \u001b[0;32mif\u001b[0m \u001b[0mreturn_attr\u001b[0m\u001b[0;34m:\u001b[0m\u001b[0;34m\u001b[0m\u001b[0;34m\u001b[0m\u001b[0m\n\u001b[1;32m     82\u001b[0m             \u001b[0;32mreturn\u001b[0m \u001b[0mprog\u001b[0m\u001b[0;34m,\u001b[0m \u001b[0mgetattr\u001b[0m\u001b[0;34m(\u001b[0m\u001b[0mprog\u001b[0m\u001b[0;34m,\u001b[0m \u001b[0mreturn_attr\u001b[0m\u001b[0;34m)\u001b[0m\u001b[0;34m\u001b[0m\u001b[0;34m\u001b[0m\u001b[0m\n",
      "\u001b[0;32m~/anaconda3/lib/python3.6/site-packages/gpkit/constraints/gp.py\u001b[0m in \u001b[0;36m__init__\u001b[0;34m(self, cost, constraints, substitutions, allow_missingbounds)\u001b[0m\n\u001b[1;32m    109\u001b[0m                                   for (v, b), x in self.missingbounds.items())\n\u001b[1;32m    110\u001b[0m             raise ValueError(\"Geometric Program is not fully bounded:\\n\"\n\u001b[0;32m--> 111\u001b[0;31m                              + boundstrs)\n\u001b[0m\u001b[1;32m    112\u001b[0m \u001b[0;34m\u001b[0m\u001b[0m\n\u001b[1;32m    113\u001b[0m     \u001b[0;32mdef\u001b[0m \u001b[0mgen\u001b[0m\u001b[0;34m(\u001b[0m\u001b[0mself\u001b[0m\u001b[0;34m)\u001b[0m\u001b[0;34m:\u001b[0m\u001b[0;34m\u001b[0m\u001b[0;34m\u001b[0m\u001b[0m\n",
      "\u001b[0;31mValueError\u001b[0m: Geometric Program is not fully bounded:\n  \\sigma_{y, al} has no upper bound\n  \\sigma_{u, al} has no upper bound\n  \\rho_{Al} has no lower bound"
     ]
    }
   ],
   "source": [
    "prob.solve()"
   ]
  },
  {
   "cell_type": "code",
   "execution_count": 30,
   "metadata": {
    "scrolled": false
   },
   "outputs": [
    {
     "ename": "ValueError",
     "evalue": "Geometric Program is not fully bounded:\n  \\sigma_{y, al} has no upper bound\n  \\sigma_{u, al} has no upper bound\n  \\rho_{Al} has no lower bound",
     "output_type": "error",
     "traceback": [
      "\u001b[0;31m---------------------------------------------------------------------------\u001b[0m",
      "\u001b[0;31mValueError\u001b[0m                                Traceback (most recent call last)",
      "\u001b[0;32m<ipython-input-30-f63ff28c371f>\u001b[0m in \u001b[0;36m<module>\u001b[0;34m\u001b[0m\n\u001b[0;32m----> 1\u001b[0;31m \u001b[0mprint\u001b[0m\u001b[0;34m(\u001b[0m\u001b[0mModel\u001b[0m\u001b[0;34m(\u001b[0m\u001b[0mht\u001b[0m\u001b[0;34m.\u001b[0m\u001b[0mm\u001b[0m\u001b[0;34m,\u001b[0m \u001b[0;34m[\u001b[0m\u001b[0mht\u001b[0m\u001b[0;34m,\u001b[0m \u001b[0mht\u001b[0m\u001b[0;34m.\u001b[0m\u001b[0mHe_initial\u001b[0m\u001b[0;34m.\u001b[0m\u001b[0mm\u001b[0m\u001b[0;34m>=\u001b[0m\u001b[0;36m1\u001b[0m\u001b[0;34m*\u001b[0m\u001b[0mgpkit\u001b[0m\u001b[0;34m.\u001b[0m\u001b[0mureg\u001b[0m\u001b[0;34m.\u001b[0m\u001b[0mg\u001b[0m\u001b[0;34m]\u001b[0m\u001b[0;34m)\u001b[0m\u001b[0;34m.\u001b[0m\u001b[0msolve\u001b[0m\u001b[0;34m(\u001b[0m\u001b[0mverbosity\u001b[0m\u001b[0;34m=\u001b[0m\u001b[0;36m0\u001b[0m\u001b[0;34m)\u001b[0m\u001b[0;34m.\u001b[0m\u001b[0mtable\u001b[0m\u001b[0;34m(\u001b[0m\u001b[0;34m)\u001b[0m\u001b[0;34m)\u001b[0m\u001b[0;34m\u001b[0m\u001b[0;34m\u001b[0m\u001b[0m\n\u001b[0m",
      "\u001b[0;32m~/anaconda3/lib/python3.6/site-packages/gpkit/constraints/prog_factories.py\u001b[0m in \u001b[0;36msolvefn\u001b[0;34m(self, solver, verbosity, skipsweepfailures, **kwargs)\u001b[0m\n\u001b[1;32m    121\u001b[0m                       solver, verbosity, **kwargs)\n\u001b[1;32m    122\u001b[0m         \u001b[0;32melse\u001b[0m\u001b[0;34m:\u001b[0m\u001b[0;34m\u001b[0m\u001b[0;34m\u001b[0m\u001b[0m\n\u001b[0;32m--> 123\u001b[0;31m             \u001b[0mself\u001b[0m\u001b[0;34m.\u001b[0m\u001b[0mprogram\u001b[0m\u001b[0;34m,\u001b[0m \u001b[0mprogsolve\u001b[0m \u001b[0;34m=\u001b[0m \u001b[0mgenfunction\u001b[0m\u001b[0;34m(\u001b[0m\u001b[0mself\u001b[0m\u001b[0;34m)\u001b[0m\u001b[0;34m\u001b[0m\u001b[0;34m\u001b[0m\u001b[0m\n\u001b[0m\u001b[1;32m    124\u001b[0m             \u001b[0mresult\u001b[0m \u001b[0;34m=\u001b[0m \u001b[0mprogsolve\u001b[0m\u001b[0;34m(\u001b[0m\u001b[0msolver\u001b[0m\u001b[0;34m,\u001b[0m \u001b[0mverbosity\u001b[0m\u001b[0;34m,\u001b[0m \u001b[0;34m**\u001b[0m\u001b[0mkwargs\u001b[0m\u001b[0;34m)\u001b[0m\u001b[0;34m\u001b[0m\u001b[0;34m\u001b[0m\u001b[0m\n\u001b[1;32m    125\u001b[0m             \u001b[0msolution\u001b[0m\u001b[0;34m.\u001b[0m\u001b[0mappend\u001b[0m\u001b[0;34m(\u001b[0m\u001b[0mresult\u001b[0m\u001b[0;34m)\u001b[0m\u001b[0;34m\u001b[0m\u001b[0;34m\u001b[0m\u001b[0m\n",
      "\u001b[0;32m~/anaconda3/lib/python3.6/site-packages/gpkit/constraints/prog_factories.py\u001b[0m in \u001b[0;36mprogramify\u001b[0;34m(self, constants, **kwargs)\u001b[0m\n\u001b[1;32m     78\u001b[0m             \u001b[0;32mif\u001b[0m \u001b[0mlinked\u001b[0m\u001b[0;34m:\u001b[0m\u001b[0;34m\u001b[0m\u001b[0;34m\u001b[0m\u001b[0m\n\u001b[1;32m     79\u001b[0m                 \u001b[0mevaluate_linked\u001b[0m\u001b[0;34m(\u001b[0m\u001b[0mconstants\u001b[0m\u001b[0;34m,\u001b[0m \u001b[0mlinked\u001b[0m\u001b[0;34m)\u001b[0m\u001b[0;34m\u001b[0m\u001b[0;34m\u001b[0m\u001b[0m\n\u001b[0;32m---> 80\u001b[0;31m         \u001b[0mprog\u001b[0m \u001b[0;34m=\u001b[0m \u001b[0mprogram\u001b[0m\u001b[0;34m(\u001b[0m\u001b[0mself\u001b[0m\u001b[0;34m.\u001b[0m\u001b[0mcost\u001b[0m\u001b[0;34m,\u001b[0m \u001b[0mself\u001b[0m\u001b[0;34m,\u001b[0m \u001b[0mconstants\u001b[0m\u001b[0;34m,\u001b[0m \u001b[0;34m**\u001b[0m\u001b[0mkwargs\u001b[0m\u001b[0;34m)\u001b[0m\u001b[0;34m\u001b[0m\u001b[0;34m\u001b[0m\u001b[0m\n\u001b[0m\u001b[1;32m     81\u001b[0m         \u001b[0;32mif\u001b[0m \u001b[0mreturn_attr\u001b[0m\u001b[0;34m:\u001b[0m\u001b[0;34m\u001b[0m\u001b[0;34m\u001b[0m\u001b[0m\n\u001b[1;32m     82\u001b[0m             \u001b[0;32mreturn\u001b[0m \u001b[0mprog\u001b[0m\u001b[0;34m,\u001b[0m \u001b[0mgetattr\u001b[0m\u001b[0;34m(\u001b[0m\u001b[0mprog\u001b[0m\u001b[0;34m,\u001b[0m \u001b[0mreturn_attr\u001b[0m\u001b[0;34m)\u001b[0m\u001b[0;34m\u001b[0m\u001b[0;34m\u001b[0m\u001b[0m\n",
      "\u001b[0;32m~/anaconda3/lib/python3.6/site-packages/gpkit/constraints/gp.py\u001b[0m in \u001b[0;36m__init__\u001b[0;34m(self, cost, constraints, substitutions, allow_missingbounds)\u001b[0m\n\u001b[1;32m    109\u001b[0m                                   for (v, b), x in self.missingbounds.items())\n\u001b[1;32m    110\u001b[0m             raise ValueError(\"Geometric Program is not fully bounded:\\n\"\n\u001b[0;32m--> 111\u001b[0;31m                              + boundstrs)\n\u001b[0m\u001b[1;32m    112\u001b[0m \u001b[0;34m\u001b[0m\u001b[0m\n\u001b[1;32m    113\u001b[0m     \u001b[0;32mdef\u001b[0m \u001b[0mgen\u001b[0m\u001b[0;34m(\u001b[0m\u001b[0mself\u001b[0m\u001b[0;34m)\u001b[0m\u001b[0;34m:\u001b[0m\u001b[0;34m\u001b[0m\u001b[0;34m\u001b[0m\u001b[0m\n",
      "\u001b[0;31mValueError\u001b[0m: Geometric Program is not fully bounded:\n  \\sigma_{y, al} has no upper bound\n  \\sigma_{u, al} has no upper bound\n  \\rho_{Al} has no lower bound"
     ]
    }
   ],
   "source": [
    "print(Model(ht.m, [ht, ht.He_initial.m>=1*gpkit.ureg.g]).solve(verbosity=0).table())"
   ]
  },
  {
   "cell_type": "code",
   "execution_count": null,
   "metadata": {},
   "outputs": [],
   "source": []
  },
  {
   "cell_type": "code",
   "execution_count": 31,
   "metadata": {},
   "outputs": [],
   "source": [
    "ts=TankSystem()"
   ]
  },
  {
   "cell_type": "code",
   "execution_count": 32,
   "metadata": {},
   "outputs": [
    {
     "data": {
      "text/latex": [
       "$$\\begin{array}{ll} \\text{}\n",
       "\\text{minimize}\n",
       "    & {m}_{TankSystem.1} \\\\\n",
       "\\text{subject to}\n",
       "    & TankSystem_{1} \\\\\n",
       "\\end{array}$$"
      ],
      "text/plain": [
       "[[[[[gpkit.MonomialEquality(m_TankSystem.1/MainTank/Water = V_TankSystem.1/MainTank/Water*\\rho_TankSystem.1/MainTank/Water),\n",
       "     gpkit.PosynomialInequality(V_TankSystem.1/MainTank/Water >= 0.35)],\n",
       "    [gpkit.PosynomialInequality(r_TankSystem.1/MainTank/GeneralTank >= 10*t_TankSystem.1/MainTank/GeneralTank),\n",
       "     gpkit.PosynomialInequality(P_{burst}_TankSystem.1/MainTank/GeneralTank >= FOSU_TankSystem.1/MainTank/GeneralTank*P_{expected}_TankSystem.1/MainTank*j_{burst}_TankSystem.1/MainTank/GeneralTank + P_{expected}_TankSystem.1/MainTank*j_{burst}_TankSystem.1/MainTank/GeneralTank),\n",
       "     gpkit.PosynomialInequality(P_{proof}_TankSystem.1/MainTank/GeneralTank >= FOSY_TankSystem.1/MainTank/GeneralTank*P_{expected}_TankSystem.1/MainTank*j_{proof}_TankSystem.1/MainTank/GeneralTank + P_{expected}_TankSystem.1/MainTank*j_{proof}_TankSystem.1/MainTank/GeneralTank),\n",
       "     gpkit.MonomialEquality(\\sigma_{vm, proof}_TankSystem.1/MainTank/GeneralTank = 0.866*P_{proof}_TankSystem.1/MainTank/GeneralTank*r_TankSystem.1/MainTank/GeneralTank*t_TankSystem.1/MainTank/GeneralTank**-1),\n",
       "     gpkit.MonomialEquality(\\sigma_{vm, burst}_TankSystem.1/MainTank/GeneralTank = 0.866*P_{burst}_TankSystem.1/MainTank/GeneralTank*r_TankSystem.1/MainTank/GeneralTank*t_TankSystem.1/MainTank/GeneralTank**-1),\n",
       "     gpkit.PosynomialInequality(\\sigma_{vm, proof}_TankSystem.1/MainTank/GeneralTank <= \\sigma_{y, al}),\n",
       "     gpkit.PosynomialInequality(\\sigma_{vm, burst}_TankSystem.1/MainTank/GeneralTank <= \\sigma_{u, al}),\n",
       "     gpkit.PosynomialInequality(m_TankSystem.1/MainTank/GeneralTank >= 6.28*\\rho_{Al}*l_TankSystem.1/MainTank/GeneralTank*r_TankSystem.1/MainTank/GeneralTank*t_TankSystem.1/MainTank/GeneralTank + 6.28*\\rho_{Al}*r_TankSystem.1/MainTank/GeneralTank**2*t_TankSystem.1/MainTank/GeneralTank)],\n",
       "    gpkit.PosynomialInequality(V_TankSystem.1/MainTank/Water <= 3.14*l_TankSystem.1/MainTank/GeneralTank*r_TankSystem.1/MainTank/GeneralTank**2),\n",
       "    gpkit.PosynomialInequality(l_TankSystem.1/MainTank/GeneralTank <= 10),\n",
       "    gpkit.PosynomialInequality(r_TankSystem.1/MainTank/GeneralTank <= 5),\n",
       "    gpkit.PosynomialInequality(m_TankSystem.1/MainTank >= m_TankSystem.1/MainTank/GeneralTank + m_TankSystem.1/MainTank/Water)],\n",
       "   [gpkit.PosynomialInequality(m_{He}_TankSystem.1/HeliumTank >= 1),\n",
       "    gpkit.PosynomialInequality(T_TankSystem.1/HeliumTank >= 200),\n",
       "    gpkit.PosynomialInequality(T_TankSystem.1/HeliumTank <= 300),\n",
       "    gpkit.PosynomialInequality(m_TankSystem.1/HeliumTank >= m_TankSystem.1/HeliumTank/GeneralTank + m_{He}_TankSystem.1/HeliumTank),\n",
       "    [gpkit.PosynomialInequality(r_TankSystem.1/HeliumTank/GeneralTank >= 10*t_TankSystem.1/HeliumTank/GeneralTank),\n",
       "     gpkit.PosynomialInequality(P_{burst}_TankSystem.1/HeliumTank/GeneralTank >= FOSU_TankSystem.1/HeliumTank/GeneralTank*P_{He, initial}_TankSystem.1/HeliumTank*j_{burst}_TankSystem.1/HeliumTank/GeneralTank + P_{He, initial}_TankSystem.1/HeliumTank*j_{burst}_TankSystem.1/HeliumTank/GeneralTank),\n",
       "     gpkit.PosynomialInequality(P_{proof}_TankSystem.1/HeliumTank/GeneralTank >= FOSY_TankSystem.1/HeliumTank/GeneralTank*P_{He, initial}_TankSystem.1/HeliumTank*j_{proof}_TankSystem.1/HeliumTank/GeneralTank + P_{He, initial}_TankSystem.1/HeliumTank*j_{proof}_TankSystem.1/HeliumTank/GeneralTank),\n",
       "     gpkit.MonomialEquality(\\sigma_{vm, proof}_TankSystem.1/HeliumTank/GeneralTank = 0.866*P_{proof}_TankSystem.1/HeliumTank/GeneralTank*r_TankSystem.1/HeliumTank/GeneralTank*t_TankSystem.1/HeliumTank/GeneralTank**-1),\n",
       "     gpkit.MonomialEquality(\\sigma_{vm, burst}_TankSystem.1/HeliumTank/GeneralTank = 0.866*P_{burst}_TankSystem.1/HeliumTank/GeneralTank*r_TankSystem.1/HeliumTank/GeneralTank*t_TankSystem.1/HeliumTank/GeneralTank**-1),\n",
       "     gpkit.PosynomialInequality(\\sigma_{vm, proof}_TankSystem.1/HeliumTank/GeneralTank <= \\sigma_{y, al}),\n",
       "     gpkit.PosynomialInequality(\\sigma_{vm, burst}_TankSystem.1/HeliumTank/GeneralTank <= \\sigma_{u, al}),\n",
       "     gpkit.PosynomialInequality(m_TankSystem.1/HeliumTank/GeneralTank >= 6.28*\\rho_{Al}*l_TankSystem.1/HeliumTank/GeneralTank*r_TankSystem.1/HeliumTank/GeneralTank*t_TankSystem.1/HeliumTank/GeneralTank + 6.28*\\rho_{Al}*r_TankSystem.1/HeliumTank/GeneralTank**2*t_TankSystem.1/HeliumTank/GeneralTank)],\n",
       "    [gpkit.MonomialEquality(3.14*P_{He, initial}_TankSystem.1/HeliumTank*l_TankSystem.1/HeliumTank/GeneralTank*r_TankSystem.1/HeliumTank/GeneralTank**2 = 2.08*T_TankSystem.1/HeliumTank*m_{He}_TankSystem.1/HeliumTank)]]],\n",
       "  [gpkit.MonomialEquality(3.14*P_{expected}_TankSystem.1/MainTank*l_TankSystem.1/MainTank/GeneralTank*r_TankSystem.1/MainTank/GeneralTank**2 = 2.08*T_TankSystem.1/HeliumTank*m_{He}_TankSystem.1/HeliumTank)],\n",
       "  gpkit.PosynomialInequality(m_TankSystem.1 >= m_TankSystem.1/HeliumTank + m_TankSystem.1/MainTank)]]"
      ]
     },
     "execution_count": 32,
     "metadata": {},
     "output_type": "execute_result"
    }
   ],
   "source": [
    "problem = Model(ts.m, ts)\n",
    "problem"
   ]
  },
  {
   "cell_type": "code",
   "execution_count": 33,
   "metadata": {},
   "outputs": [
    {
     "data": {
      "text/latex": [
       "$$\\begin{array}{ll} \\text{}\n",
       "\\text{minimize}\n",
       "    & 1 \\\\\n",
       "\\text{subject to}\n",
       "    & MainTank_{0} \\\\\n",
       "    & HeliumTank_{0} \\\\\n",
       "    & Helium_{0} \\\\\n",
       "    & {m}_{TankSystem.1} \\geq {m}_{TankSystem.1/HeliumTank} + {m}_{TankSystem.1/MainTank} \\\\\n",
       "\\end{array}$$"
      ],
      "text/plain": [
       "[[[[gpkit.MonomialEquality(m_TankSystem.1/MainTank/Water = V_TankSystem.1/MainTank/Water*\\rho_TankSystem.1/MainTank/Water),\n",
       "    gpkit.PosynomialInequality(V_TankSystem.1/MainTank/Water >= 0.35)],\n",
       "   [gpkit.PosynomialInequality(r_TankSystem.1/MainTank/GeneralTank >= 10*t_TankSystem.1/MainTank/GeneralTank),\n",
       "    gpkit.PosynomialInequality(P_{burst}_TankSystem.1/MainTank/GeneralTank >= FOSU_TankSystem.1/MainTank/GeneralTank*P_{expected}_TankSystem.1/MainTank*j_{burst}_TankSystem.1/MainTank/GeneralTank + P_{expected}_TankSystem.1/MainTank*j_{burst}_TankSystem.1/MainTank/GeneralTank),\n",
       "    gpkit.PosynomialInequality(P_{proof}_TankSystem.1/MainTank/GeneralTank >= FOSY_TankSystem.1/MainTank/GeneralTank*P_{expected}_TankSystem.1/MainTank*j_{proof}_TankSystem.1/MainTank/GeneralTank + P_{expected}_TankSystem.1/MainTank*j_{proof}_TankSystem.1/MainTank/GeneralTank),\n",
       "    gpkit.MonomialEquality(\\sigma_{vm, proof}_TankSystem.1/MainTank/GeneralTank = 0.866*P_{proof}_TankSystem.1/MainTank/GeneralTank*r_TankSystem.1/MainTank/GeneralTank*t_TankSystem.1/MainTank/GeneralTank**-1),\n",
       "    gpkit.MonomialEquality(\\sigma_{vm, burst}_TankSystem.1/MainTank/GeneralTank = 0.866*P_{burst}_TankSystem.1/MainTank/GeneralTank*r_TankSystem.1/MainTank/GeneralTank*t_TankSystem.1/MainTank/GeneralTank**-1),\n",
       "    gpkit.PosynomialInequality(\\sigma_{vm, proof}_TankSystem.1/MainTank/GeneralTank <= \\sigma_{y, al}),\n",
       "    gpkit.PosynomialInequality(\\sigma_{vm, burst}_TankSystem.1/MainTank/GeneralTank <= \\sigma_{u, al}),\n",
       "    gpkit.PosynomialInequality(m_TankSystem.1/MainTank/GeneralTank >= 6.28*\\rho_{Al}*l_TankSystem.1/MainTank/GeneralTank*r_TankSystem.1/MainTank/GeneralTank*t_TankSystem.1/MainTank/GeneralTank + 6.28*\\rho_{Al}*r_TankSystem.1/MainTank/GeneralTank**2*t_TankSystem.1/MainTank/GeneralTank)],\n",
       "   gpkit.PosynomialInequality(V_TankSystem.1/MainTank/Water <= 3.14*l_TankSystem.1/MainTank/GeneralTank*r_TankSystem.1/MainTank/GeneralTank**2),\n",
       "   gpkit.PosynomialInequality(l_TankSystem.1/MainTank/GeneralTank <= 10),\n",
       "   gpkit.PosynomialInequality(r_TankSystem.1/MainTank/GeneralTank <= 5),\n",
       "   gpkit.PosynomialInequality(m_TankSystem.1/MainTank >= m_TankSystem.1/MainTank/GeneralTank + m_TankSystem.1/MainTank/Water)],\n",
       "  [gpkit.PosynomialInequality(m_{He}_TankSystem.1/HeliumTank >= 1),\n",
       "   gpkit.PosynomialInequality(T_TankSystem.1/HeliumTank >= 200),\n",
       "   gpkit.PosynomialInequality(T_TankSystem.1/HeliumTank <= 300),\n",
       "   gpkit.PosynomialInequality(m_TankSystem.1/HeliumTank >= m_TankSystem.1/HeliumTank/GeneralTank + m_{He}_TankSystem.1/HeliumTank),\n",
       "   [gpkit.PosynomialInequality(r_TankSystem.1/HeliumTank/GeneralTank >= 10*t_TankSystem.1/HeliumTank/GeneralTank),\n",
       "    gpkit.PosynomialInequality(P_{burst}_TankSystem.1/HeliumTank/GeneralTank >= FOSU_TankSystem.1/HeliumTank/GeneralTank*P_{He, initial}_TankSystem.1/HeliumTank*j_{burst}_TankSystem.1/HeliumTank/GeneralTank + P_{He, initial}_TankSystem.1/HeliumTank*j_{burst}_TankSystem.1/HeliumTank/GeneralTank),\n",
       "    gpkit.PosynomialInequality(P_{proof}_TankSystem.1/HeliumTank/GeneralTank >= FOSY_TankSystem.1/HeliumTank/GeneralTank*P_{He, initial}_TankSystem.1/HeliumTank*j_{proof}_TankSystem.1/HeliumTank/GeneralTank + P_{He, initial}_TankSystem.1/HeliumTank*j_{proof}_TankSystem.1/HeliumTank/GeneralTank),\n",
       "    gpkit.MonomialEquality(\\sigma_{vm, proof}_TankSystem.1/HeliumTank/GeneralTank = 0.866*P_{proof}_TankSystem.1/HeliumTank/GeneralTank*r_TankSystem.1/HeliumTank/GeneralTank*t_TankSystem.1/HeliumTank/GeneralTank**-1),\n",
       "    gpkit.MonomialEquality(\\sigma_{vm, burst}_TankSystem.1/HeliumTank/GeneralTank = 0.866*P_{burst}_TankSystem.1/HeliumTank/GeneralTank*r_TankSystem.1/HeliumTank/GeneralTank*t_TankSystem.1/HeliumTank/GeneralTank**-1),\n",
       "    gpkit.PosynomialInequality(\\sigma_{vm, proof}_TankSystem.1/HeliumTank/GeneralTank <= \\sigma_{y, al}),\n",
       "    gpkit.PosynomialInequality(\\sigma_{vm, burst}_TankSystem.1/HeliumTank/GeneralTank <= \\sigma_{u, al}),\n",
       "    gpkit.PosynomialInequality(m_TankSystem.1/HeliumTank/GeneralTank >= 6.28*\\rho_{Al}*l_TankSystem.1/HeliumTank/GeneralTank*r_TankSystem.1/HeliumTank/GeneralTank*t_TankSystem.1/HeliumTank/GeneralTank + 6.28*\\rho_{Al}*r_TankSystem.1/HeliumTank/GeneralTank**2*t_TankSystem.1/HeliumTank/GeneralTank)],\n",
       "   [gpkit.MonomialEquality(3.14*P_{He, initial}_TankSystem.1/HeliumTank*l_TankSystem.1/HeliumTank/GeneralTank*r_TankSystem.1/HeliumTank/GeneralTank**2 = 2.08*T_TankSystem.1/HeliumTank*m_{He}_TankSystem.1/HeliumTank)]]],\n",
       " [gpkit.MonomialEquality(3.14*P_{expected}_TankSystem.1/MainTank*l_TankSystem.1/MainTank/GeneralTank*r_TankSystem.1/MainTank/GeneralTank**2 = 2.08*T_TankSystem.1/HeliumTank*m_{He}_TankSystem.1/HeliumTank)],\n",
       " gpkit.PosynomialInequality(m_TankSystem.1 >= m_TankSystem.1/HeliumTank + m_TankSystem.1/MainTank)]"
      ]
     },
     "execution_count": 33,
     "metadata": {},
     "output_type": "execute_result"
    }
   ],
   "source": [
    "ts"
   ]
  },
  {
   "cell_type": "code",
   "execution_count": 34,
   "metadata": {},
   "outputs": [
    {
     "data": {
      "text/latex": [
       "$$\\begin{array}{ll} \\text{}\n",
       "\\text{minimize}\n",
       "    & 1 \\\\\n",
       "\\text{subject to}\n",
       "    & Water_{0} \\\\\n",
       "    & GeneralTank_{0} \\\\\n",
       "    & {V}_{TankSystem.1/MainTank/Water} \\leq 3.142{l}_{TankSystem.1/MainTank/GeneralTank} {r}_{TankSystem.1/MainTank/GeneralTank}^{2} \\\\\n",
       "    & {l}_{TankSystem.1/MainTank/GeneralTank} \\leq 10 \\\\\n",
       "    & {r}_{TankSystem.1/MainTank/GeneralTank} \\leq 5 \\\\\n",
       "    & {m}_{TankSystem.1/MainTank} \\geq {m}_{TankSystem.1/MainTank/GeneralTank} + {m}_{TankSystem.1/MainTank/Water} \\\\\n",
       "\\end{array}$$"
      ],
      "text/plain": [
       "[[gpkit.MonomialEquality(m_TankSystem.1/MainTank/Water = V_TankSystem.1/MainTank/Water*\\rho_TankSystem.1/MainTank/Water),\n",
       "  gpkit.PosynomialInequality(V_TankSystem.1/MainTank/Water >= 0.35)],\n",
       " [gpkit.PosynomialInequality(r_TankSystem.1/MainTank/GeneralTank >= 10*t_TankSystem.1/MainTank/GeneralTank),\n",
       "  gpkit.PosynomialInequality(P_{burst}_TankSystem.1/MainTank/GeneralTank >= FOSU_TankSystem.1/MainTank/GeneralTank*P_{expected}_TankSystem.1/MainTank*j_{burst}_TankSystem.1/MainTank/GeneralTank + P_{expected}_TankSystem.1/MainTank*j_{burst}_TankSystem.1/MainTank/GeneralTank),\n",
       "  gpkit.PosynomialInequality(P_{proof}_TankSystem.1/MainTank/GeneralTank >= FOSY_TankSystem.1/MainTank/GeneralTank*P_{expected}_TankSystem.1/MainTank*j_{proof}_TankSystem.1/MainTank/GeneralTank + P_{expected}_TankSystem.1/MainTank*j_{proof}_TankSystem.1/MainTank/GeneralTank),\n",
       "  gpkit.MonomialEquality(\\sigma_{vm, proof}_TankSystem.1/MainTank/GeneralTank = 0.866*P_{proof}_TankSystem.1/MainTank/GeneralTank*r_TankSystem.1/MainTank/GeneralTank*t_TankSystem.1/MainTank/GeneralTank**-1),\n",
       "  gpkit.MonomialEquality(\\sigma_{vm, burst}_TankSystem.1/MainTank/GeneralTank = 0.866*P_{burst}_TankSystem.1/MainTank/GeneralTank*r_TankSystem.1/MainTank/GeneralTank*t_TankSystem.1/MainTank/GeneralTank**-1),\n",
       "  gpkit.PosynomialInequality(\\sigma_{vm, proof}_TankSystem.1/MainTank/GeneralTank <= \\sigma_{y, al}),\n",
       "  gpkit.PosynomialInequality(\\sigma_{vm, burst}_TankSystem.1/MainTank/GeneralTank <= \\sigma_{u, al}),\n",
       "  gpkit.PosynomialInequality(m_TankSystem.1/MainTank/GeneralTank >= 6.28*\\rho_{Al}*l_TankSystem.1/MainTank/GeneralTank*r_TankSystem.1/MainTank/GeneralTank*t_TankSystem.1/MainTank/GeneralTank + 6.28*\\rho_{Al}*r_TankSystem.1/MainTank/GeneralTank**2*t_TankSystem.1/MainTank/GeneralTank)],\n",
       " gpkit.PosynomialInequality(V_TankSystem.1/MainTank/Water <= 3.14*l_TankSystem.1/MainTank/GeneralTank*r_TankSystem.1/MainTank/GeneralTank**2),\n",
       " gpkit.PosynomialInequality(l_TankSystem.1/MainTank/GeneralTank <= 10),\n",
       " gpkit.PosynomialInequality(r_TankSystem.1/MainTank/GeneralTank <= 5),\n",
       " gpkit.PosynomialInequality(m_TankSystem.1/MainTank >= m_TankSystem.1/MainTank/GeneralTank + m_TankSystem.1/MainTank/Water)]"
      ]
     },
     "execution_count": 34,
     "metadata": {},
     "output_type": "execute_result"
    }
   ],
   "source": [
    "ts.components[0]"
   ]
  },
  {
   "cell_type": "code",
   "execution_count": 35,
   "metadata": {},
   "outputs": [
    {
     "data": {
      "text/latex": [
       "$$\\begin{array}{ll} \\text{}\n",
       "\\text{minimize}\n",
       "    & 1 \\\\\n",
       "\\text{subject to}\n",
       "    & {m_{He}}_{TankSystem.1/HeliumTank} \\geq 1 \\\\\n",
       "    & {T}_{TankSystem.1/HeliumTank} \\geq 200 \\\\\n",
       "    & {T}_{TankSystem.1/HeliumTank} \\leq 300 \\\\\n",
       "    & {m}_{TankSystem.1/HeliumTank} \\geq {m_{He}}_{TankSystem.1/HeliumTank} + {m}_{TankSystem.1/HeliumTank/GeneralTank} \\\\\n",
       "    & GeneralTank_{0} \\\\\n",
       "    & Helium_{0} \\\\\n",
       "\\end{array}$$"
      ],
      "text/plain": [
       "[gpkit.PosynomialInequality(m_{He}_TankSystem.1/HeliumTank >= 1),\n",
       " gpkit.PosynomialInequality(T_TankSystem.1/HeliumTank >= 200),\n",
       " gpkit.PosynomialInequality(T_TankSystem.1/HeliumTank <= 300),\n",
       " gpkit.PosynomialInequality(m_TankSystem.1/HeliumTank >= m_TankSystem.1/HeliumTank/GeneralTank + m_{He}_TankSystem.1/HeliumTank),\n",
       " [gpkit.PosynomialInequality(r_TankSystem.1/HeliumTank/GeneralTank >= 10*t_TankSystem.1/HeliumTank/GeneralTank),\n",
       "  gpkit.PosynomialInequality(P_{burst}_TankSystem.1/HeliumTank/GeneralTank >= FOSU_TankSystem.1/HeliumTank/GeneralTank*P_{He, initial}_TankSystem.1/HeliumTank*j_{burst}_TankSystem.1/HeliumTank/GeneralTank + P_{He, initial}_TankSystem.1/HeliumTank*j_{burst}_TankSystem.1/HeliumTank/GeneralTank),\n",
       "  gpkit.PosynomialInequality(P_{proof}_TankSystem.1/HeliumTank/GeneralTank >= FOSY_TankSystem.1/HeliumTank/GeneralTank*P_{He, initial}_TankSystem.1/HeliumTank*j_{proof}_TankSystem.1/HeliumTank/GeneralTank + P_{He, initial}_TankSystem.1/HeliumTank*j_{proof}_TankSystem.1/HeliumTank/GeneralTank),\n",
       "  gpkit.MonomialEquality(\\sigma_{vm, proof}_TankSystem.1/HeliumTank/GeneralTank = 0.866*P_{proof}_TankSystem.1/HeliumTank/GeneralTank*r_TankSystem.1/HeliumTank/GeneralTank*t_TankSystem.1/HeliumTank/GeneralTank**-1),\n",
       "  gpkit.MonomialEquality(\\sigma_{vm, burst}_TankSystem.1/HeliumTank/GeneralTank = 0.866*P_{burst}_TankSystem.1/HeliumTank/GeneralTank*r_TankSystem.1/HeliumTank/GeneralTank*t_TankSystem.1/HeliumTank/GeneralTank**-1),\n",
       "  gpkit.PosynomialInequality(\\sigma_{vm, proof}_TankSystem.1/HeliumTank/GeneralTank <= \\sigma_{y, al}),\n",
       "  gpkit.PosynomialInequality(\\sigma_{vm, burst}_TankSystem.1/HeliumTank/GeneralTank <= \\sigma_{u, al}),\n",
       "  gpkit.PosynomialInequality(m_TankSystem.1/HeliumTank/GeneralTank >= 6.28*\\rho_{Al}*l_TankSystem.1/HeliumTank/GeneralTank*r_TankSystem.1/HeliumTank/GeneralTank*t_TankSystem.1/HeliumTank/GeneralTank + 6.28*\\rho_{Al}*r_TankSystem.1/HeliumTank/GeneralTank**2*t_TankSystem.1/HeliumTank/GeneralTank)],\n",
       " [gpkit.MonomialEquality(3.14*P_{He, initial}_TankSystem.1/HeliumTank*l_TankSystem.1/HeliumTank/GeneralTank*r_TankSystem.1/HeliumTank/GeneralTank**2 = 2.08*T_TankSystem.1/HeliumTank*m_{He}_TankSystem.1/HeliumTank)]]"
      ]
     },
     "execution_count": 35,
     "metadata": {},
     "output_type": "execute_result"
    }
   ],
   "source": [
    "ts.components[1]"
   ]
  },
  {
   "cell_type": "code",
   "execution_count": 36,
   "metadata": {},
   "outputs": [
    {
     "data": {
      "text/latex": [
       "$$\\begin{array}{ll} \\text{}\n",
       "\\text{minimize}\n",
       "    & 1 \\\\\n",
       "\\text{subject to}\n",
       "    & {m}_{TankSystem.1/MainTank/Water} = {V}_{TankSystem.1/MainTank/Water} {\\rho}_{TankSystem.1/MainTank/Water} \\\\\n",
       "    & {V}_{TankSystem.1/MainTank/Water} \\geq 0.35 \\\\\n",
       "\\end{array}$$"
      ],
      "text/plain": [
       "[gpkit.MonomialEquality(m_TankSystem.1/MainTank/Water = V_TankSystem.1/MainTank/Water*\\rho_TankSystem.1/MainTank/Water),\n",
       " gpkit.PosynomialInequality(V_TankSystem.1/MainTank/Water >= 0.35)]"
      ]
     },
     "execution_count": 36,
     "metadata": {},
     "output_type": "execute_result"
    }
   ],
   "source": [
    "ts.components[0].components[0]"
   ]
  },
  {
   "cell_type": "code",
   "execution_count": 37,
   "metadata": {},
   "outputs": [
    {
     "data": {
      "text/latex": [
       "$$\\begin{array}{ll} \\text{}\n",
       "\\text{minimize}\n",
       "    & 1 \\\\\n",
       "\\text{subject to}\n",
       "    & {r}_{TankSystem.1/MainTank/GeneralTank} \\geq 10{t}_{TankSystem.1/MainTank/GeneralTank} \\\\\n",
       "    & {P_{burst}}_{TankSystem.1/MainTank/GeneralTank} \\geq {FOSU}_{TankSystem.1/MainTank/GeneralTank} {P_{expected}}_{TankSystem.1/MainTank} {j_{burst}}_{TankSystem.1/MainTank/GeneralTank} + {P_{expected}}_{TankSystem.1/MainTank} {j_{burst}}_{TankSystem.1/MainTank/GeneralTank} \\\\\n",
       "    & {P_{proof}}_{TankSystem.1/MainTank/GeneralTank} \\geq {FOSY}_{TankSystem.1/MainTank/GeneralTank} {P_{expected}}_{TankSystem.1/MainTank} {j_{proof}}_{TankSystem.1/MainTank/GeneralTank} + {P_{expected}}_{TankSystem.1/MainTank} {j_{proof}}_{TankSystem.1/MainTank/GeneralTank} \\\\\n",
       "    & {\\sigma_{vm, proof}}_{TankSystem.1/MainTank/GeneralTank} = 0.866\\frac{{P_{proof}}_{TankSystem.1/MainTank/GeneralTank} {r}_{TankSystem.1/MainTank/GeneralTank}}{{t}_{TankSystem.1/MainTank/GeneralTank}} \\\\\n",
       "    & {\\sigma_{vm, burst}}_{TankSystem.1/MainTank/GeneralTank} = 0.866\\frac{{P_{burst}}_{TankSystem.1/MainTank/GeneralTank} {r}_{TankSystem.1/MainTank/GeneralTank}}{{t}_{TankSystem.1/MainTank/GeneralTank}} \\\\\n",
       "    & {\\sigma_{vm, proof}}_{TankSystem.1/MainTank/GeneralTank} \\leq \\sigma_{y, al} \\\\\n",
       "    & {\\sigma_{vm, burst}}_{TankSystem.1/MainTank/GeneralTank} \\leq \\sigma_{u, al} \\\\\n",
       "    & {m}_{TankSystem.1/MainTank/GeneralTank} \\geq 6.283\\rho_{Al} {l}_{TankSystem.1/MainTank/GeneralTank} {r}_{TankSystem.1/MainTank/GeneralTank} {t}_{TankSystem.1/MainTank/GeneralTank} + 6.283\\rho_{Al} {r}_{TankSystem.1/MainTank/GeneralTank}^{2} {t}_{TankSystem.1/MainTank/GeneralTank} \\\\\n",
       "\\end{array}$$"
      ],
      "text/plain": [
       "[gpkit.PosynomialInequality(r_TankSystem.1/MainTank/GeneralTank >= 10*t_TankSystem.1/MainTank/GeneralTank),\n",
       " gpkit.PosynomialInequality(P_{burst}_TankSystem.1/MainTank/GeneralTank >= FOSU_TankSystem.1/MainTank/GeneralTank*P_{expected}_TankSystem.1/MainTank*j_{burst}_TankSystem.1/MainTank/GeneralTank + P_{expected}_TankSystem.1/MainTank*j_{burst}_TankSystem.1/MainTank/GeneralTank),\n",
       " gpkit.PosynomialInequality(P_{proof}_TankSystem.1/MainTank/GeneralTank >= FOSY_TankSystem.1/MainTank/GeneralTank*P_{expected}_TankSystem.1/MainTank*j_{proof}_TankSystem.1/MainTank/GeneralTank + P_{expected}_TankSystem.1/MainTank*j_{proof}_TankSystem.1/MainTank/GeneralTank),\n",
       " gpkit.MonomialEquality(\\sigma_{vm, proof}_TankSystem.1/MainTank/GeneralTank = 0.866*P_{proof}_TankSystem.1/MainTank/GeneralTank*r_TankSystem.1/MainTank/GeneralTank*t_TankSystem.1/MainTank/GeneralTank**-1),\n",
       " gpkit.MonomialEquality(\\sigma_{vm, burst}_TankSystem.1/MainTank/GeneralTank = 0.866*P_{burst}_TankSystem.1/MainTank/GeneralTank*r_TankSystem.1/MainTank/GeneralTank*t_TankSystem.1/MainTank/GeneralTank**-1),\n",
       " gpkit.PosynomialInequality(\\sigma_{vm, proof}_TankSystem.1/MainTank/GeneralTank <= \\sigma_{y, al}),\n",
       " gpkit.PosynomialInequality(\\sigma_{vm, burst}_TankSystem.1/MainTank/GeneralTank <= \\sigma_{u, al}),\n",
       " gpkit.PosynomialInequality(m_TankSystem.1/MainTank/GeneralTank >= 6.28*\\rho_{Al}*l_TankSystem.1/MainTank/GeneralTank*r_TankSystem.1/MainTank/GeneralTank*t_TankSystem.1/MainTank/GeneralTank + 6.28*\\rho_{Al}*r_TankSystem.1/MainTank/GeneralTank**2*t_TankSystem.1/MainTank/GeneralTank)]"
      ]
     },
     "execution_count": 37,
     "metadata": {},
     "output_type": "execute_result"
    }
   ],
   "source": [
    "ts.components[0].components[1]"
   ]
  },
  {
   "cell_type": "code",
   "execution_count": 38,
   "metadata": {},
   "outputs": [
    {
     "data": {
      "text/latex": [
       "$$\\begin{array}{ll} \\text{}\n",
       "\\text{minimize}\n",
       "    & 1 \\\\\n",
       "\\text{subject to}\n",
       "    & {r}_{TankSystem.1/HeliumTank/GeneralTank} \\geq 10{t}_{TankSystem.1/HeliumTank/GeneralTank} \\\\\n",
       "    & {P_{burst}}_{TankSystem.1/HeliumTank/GeneralTank} \\geq {FOSU}_{TankSystem.1/HeliumTank/GeneralTank} {P_{He, initial}}_{TankSystem.1/HeliumTank} {j_{burst}}_{TankSystem.1/HeliumTank/GeneralTank} + {P_{He, initial}}_{TankSystem.1/HeliumTank} {j_{burst}}_{TankSystem.1/HeliumTank/GeneralTank} \\\\\n",
       "    & {P_{proof}}_{TankSystem.1/HeliumTank/GeneralTank} \\geq {FOSY}_{TankSystem.1/HeliumTank/GeneralTank} {P_{He, initial}}_{TankSystem.1/HeliumTank} {j_{proof}}_{TankSystem.1/HeliumTank/GeneralTank} + {P_{He, initial}}_{TankSystem.1/HeliumTank} {j_{proof}}_{TankSystem.1/HeliumTank/GeneralTank} \\\\\n",
       "    & {\\sigma_{vm, proof}}_{TankSystem.1/HeliumTank/GeneralTank} = 0.866\\frac{{P_{proof}}_{TankSystem.1/HeliumTank/GeneralTank} {r}_{TankSystem.1/HeliumTank/GeneralTank}}{{t}_{TankSystem.1/HeliumTank/GeneralTank}} \\\\\n",
       "    & {\\sigma_{vm, burst}}_{TankSystem.1/HeliumTank/GeneralTank} = 0.866\\frac{{P_{burst}}_{TankSystem.1/HeliumTank/GeneralTank} {r}_{TankSystem.1/HeliumTank/GeneralTank}}{{t}_{TankSystem.1/HeliumTank/GeneralTank}} \\\\\n",
       "    & {\\sigma_{vm, proof}}_{TankSystem.1/HeliumTank/GeneralTank} \\leq \\sigma_{y, al} \\\\\n",
       "    & {\\sigma_{vm, burst}}_{TankSystem.1/HeliumTank/GeneralTank} \\leq \\sigma_{u, al} \\\\\n",
       "    & {m}_{TankSystem.1/HeliumTank/GeneralTank} \\geq 6.283\\rho_{Al} {l}_{TankSystem.1/HeliumTank/GeneralTank} {r}_{TankSystem.1/HeliumTank/GeneralTank} {t}_{TankSystem.1/HeliumTank/GeneralTank} + 6.283\\rho_{Al} {r}_{TankSystem.1/HeliumTank/GeneralTank}^{2} {t}_{TankSystem.1/HeliumTank/GeneralTank} \\\\\n",
       "\\end{array}$$"
      ],
      "text/plain": [
       "[gpkit.PosynomialInequality(r_TankSystem.1/HeliumTank/GeneralTank >= 10*t_TankSystem.1/HeliumTank/GeneralTank),\n",
       " gpkit.PosynomialInequality(P_{burst}_TankSystem.1/HeliumTank/GeneralTank >= FOSU_TankSystem.1/HeliumTank/GeneralTank*P_{He, initial}_TankSystem.1/HeliumTank*j_{burst}_TankSystem.1/HeliumTank/GeneralTank + P_{He, initial}_TankSystem.1/HeliumTank*j_{burst}_TankSystem.1/HeliumTank/GeneralTank),\n",
       " gpkit.PosynomialInequality(P_{proof}_TankSystem.1/HeliumTank/GeneralTank >= FOSY_TankSystem.1/HeliumTank/GeneralTank*P_{He, initial}_TankSystem.1/HeliumTank*j_{proof}_TankSystem.1/HeliumTank/GeneralTank + P_{He, initial}_TankSystem.1/HeliumTank*j_{proof}_TankSystem.1/HeliumTank/GeneralTank),\n",
       " gpkit.MonomialEquality(\\sigma_{vm, proof}_TankSystem.1/HeliumTank/GeneralTank = 0.866*P_{proof}_TankSystem.1/HeliumTank/GeneralTank*r_TankSystem.1/HeliumTank/GeneralTank*t_TankSystem.1/HeliumTank/GeneralTank**-1),\n",
       " gpkit.MonomialEquality(\\sigma_{vm, burst}_TankSystem.1/HeliumTank/GeneralTank = 0.866*P_{burst}_TankSystem.1/HeliumTank/GeneralTank*r_TankSystem.1/HeliumTank/GeneralTank*t_TankSystem.1/HeliumTank/GeneralTank**-1),\n",
       " gpkit.PosynomialInequality(\\sigma_{vm, proof}_TankSystem.1/HeliumTank/GeneralTank <= \\sigma_{y, al}),\n",
       " gpkit.PosynomialInequality(\\sigma_{vm, burst}_TankSystem.1/HeliumTank/GeneralTank <= \\sigma_{u, al}),\n",
       " gpkit.PosynomialInequality(m_TankSystem.1/HeliumTank/GeneralTank >= 6.28*\\rho_{Al}*l_TankSystem.1/HeliumTank/GeneralTank*r_TankSystem.1/HeliumTank/GeneralTank*t_TankSystem.1/HeliumTank/GeneralTank + 6.28*\\rho_{Al}*r_TankSystem.1/HeliumTank/GeneralTank**2*t_TankSystem.1/HeliumTank/GeneralTank)]"
      ]
     },
     "execution_count": 38,
     "metadata": {},
     "output_type": "execute_result"
    }
   ],
   "source": [
    "ts.components[1].components[0]"
   ]
  },
  {
   "cell_type": "code",
   "execution_count": 39,
   "metadata": {},
   "outputs": [
    {
     "data": {
      "text/latex": [
       "$$\\begin{array}{ll} \\text{}\n",
       "\\text{minimize}\n",
       "    & 1 \\\\\n",
       "\\text{subject to}\n",
       "    & 3.142{P_{He, initial}}_{TankSystem.1/HeliumTank} {l}_{TankSystem.1/HeliumTank/GeneralTank} {r}_{TankSystem.1/HeliumTank/GeneralTank}^{2} = 2.077{T}_{TankSystem.1/HeliumTank} {m_{He}}_{TankSystem.1/HeliumTank} \\\\\n",
       "\\end{array}$$"
      ],
      "text/plain": [
       "[gpkit.MonomialEquality(3.14*P_{He, initial}_TankSystem.1/HeliumTank*l_TankSystem.1/HeliumTank/GeneralTank*r_TankSystem.1/HeliumTank/GeneralTank**2 = 2.08*T_TankSystem.1/HeliumTank*m_{He}_TankSystem.1/HeliumTank)]"
      ]
     },
     "execution_count": 39,
     "metadata": {},
     "output_type": "execute_result"
    }
   ],
   "source": [
    "ts.components[1].components[1]"
   ]
  },
  {
   "cell_type": "code",
   "execution_count": null,
   "metadata": {},
   "outputs": [],
   "source": []
  },
  {
   "cell_type": "code",
   "execution_count": 40,
   "metadata": {},
   "outputs": [
    {
     "data": {
      "text/latex": [
       "$$\\begin{array}{ll} \\text{}\n",
       "\\text{minimize}\n",
       "    & {m}_{TankSystem.1} \\\\\n",
       "\\text{subject to}\n",
       "    & TankSystem_{1} \\\\\n",
       "\\end{array}$$"
      ],
      "text/plain": [
       "[[[[[gpkit.MonomialEquality(m_TankSystem.1/MainTank/Water = V_TankSystem.1/MainTank/Water*\\rho_TankSystem.1/MainTank/Water),\n",
       "     gpkit.PosynomialInequality(V_TankSystem.1/MainTank/Water >= 0.35)],\n",
       "    [gpkit.PosynomialInequality(r_TankSystem.1/MainTank/GeneralTank >= 10*t_TankSystem.1/MainTank/GeneralTank),\n",
       "     gpkit.PosynomialInequality(P_{burst}_TankSystem.1/MainTank/GeneralTank >= FOSU_TankSystem.1/MainTank/GeneralTank*P_{expected}_TankSystem.1/MainTank*j_{burst}_TankSystem.1/MainTank/GeneralTank + P_{expected}_TankSystem.1/MainTank*j_{burst}_TankSystem.1/MainTank/GeneralTank),\n",
       "     gpkit.PosynomialInequality(P_{proof}_TankSystem.1/MainTank/GeneralTank >= FOSY_TankSystem.1/MainTank/GeneralTank*P_{expected}_TankSystem.1/MainTank*j_{proof}_TankSystem.1/MainTank/GeneralTank + P_{expected}_TankSystem.1/MainTank*j_{proof}_TankSystem.1/MainTank/GeneralTank),\n",
       "     gpkit.MonomialEquality(\\sigma_{vm, proof}_TankSystem.1/MainTank/GeneralTank = 0.866*P_{proof}_TankSystem.1/MainTank/GeneralTank*r_TankSystem.1/MainTank/GeneralTank*t_TankSystem.1/MainTank/GeneralTank**-1),\n",
       "     gpkit.MonomialEquality(\\sigma_{vm, burst}_TankSystem.1/MainTank/GeneralTank = 0.866*P_{burst}_TankSystem.1/MainTank/GeneralTank*r_TankSystem.1/MainTank/GeneralTank*t_TankSystem.1/MainTank/GeneralTank**-1),\n",
       "     gpkit.PosynomialInequality(\\sigma_{vm, proof}_TankSystem.1/MainTank/GeneralTank <= \\sigma_{y, al}),\n",
       "     gpkit.PosynomialInequality(\\sigma_{vm, burst}_TankSystem.1/MainTank/GeneralTank <= \\sigma_{u, al}),\n",
       "     gpkit.PosynomialInequality(m_TankSystem.1/MainTank/GeneralTank >= 6.28*\\rho_{Al}*l_TankSystem.1/MainTank/GeneralTank*r_TankSystem.1/MainTank/GeneralTank*t_TankSystem.1/MainTank/GeneralTank + 6.28*\\rho_{Al}*r_TankSystem.1/MainTank/GeneralTank**2*t_TankSystem.1/MainTank/GeneralTank)],\n",
       "    gpkit.PosynomialInequality(V_TankSystem.1/MainTank/Water <= 3.14*l_TankSystem.1/MainTank/GeneralTank*r_TankSystem.1/MainTank/GeneralTank**2),\n",
       "    gpkit.PosynomialInequality(l_TankSystem.1/MainTank/GeneralTank <= 10),\n",
       "    gpkit.PosynomialInequality(r_TankSystem.1/MainTank/GeneralTank <= 5),\n",
       "    gpkit.PosynomialInequality(m_TankSystem.1/MainTank >= m_TankSystem.1/MainTank/GeneralTank + m_TankSystem.1/MainTank/Water)],\n",
       "   [gpkit.PosynomialInequality(m_{He}_TankSystem.1/HeliumTank >= 1),\n",
       "    gpkit.PosynomialInequality(T_TankSystem.1/HeliumTank >= 200),\n",
       "    gpkit.PosynomialInequality(T_TankSystem.1/HeliumTank <= 300),\n",
       "    gpkit.PosynomialInequality(m_TankSystem.1/HeliumTank >= m_TankSystem.1/HeliumTank/GeneralTank + m_{He}_TankSystem.1/HeliumTank),\n",
       "    [gpkit.PosynomialInequality(r_TankSystem.1/HeliumTank/GeneralTank >= 10*t_TankSystem.1/HeliumTank/GeneralTank),\n",
       "     gpkit.PosynomialInequality(P_{burst}_TankSystem.1/HeliumTank/GeneralTank >= FOSU_TankSystem.1/HeliumTank/GeneralTank*P_{He, initial}_TankSystem.1/HeliumTank*j_{burst}_TankSystem.1/HeliumTank/GeneralTank + P_{He, initial}_TankSystem.1/HeliumTank*j_{burst}_TankSystem.1/HeliumTank/GeneralTank),\n",
       "     gpkit.PosynomialInequality(P_{proof}_TankSystem.1/HeliumTank/GeneralTank >= FOSY_TankSystem.1/HeliumTank/GeneralTank*P_{He, initial}_TankSystem.1/HeliumTank*j_{proof}_TankSystem.1/HeliumTank/GeneralTank + P_{He, initial}_TankSystem.1/HeliumTank*j_{proof}_TankSystem.1/HeliumTank/GeneralTank),\n",
       "     gpkit.MonomialEquality(\\sigma_{vm, proof}_TankSystem.1/HeliumTank/GeneralTank = 0.866*P_{proof}_TankSystem.1/HeliumTank/GeneralTank*r_TankSystem.1/HeliumTank/GeneralTank*t_TankSystem.1/HeliumTank/GeneralTank**-1),\n",
       "     gpkit.MonomialEquality(\\sigma_{vm, burst}_TankSystem.1/HeliumTank/GeneralTank = 0.866*P_{burst}_TankSystem.1/HeliumTank/GeneralTank*r_TankSystem.1/HeliumTank/GeneralTank*t_TankSystem.1/HeliumTank/GeneralTank**-1),\n",
       "     gpkit.PosynomialInequality(\\sigma_{vm, proof}_TankSystem.1/HeliumTank/GeneralTank <= \\sigma_{y, al}),\n",
       "     gpkit.PosynomialInequality(\\sigma_{vm, burst}_TankSystem.1/HeliumTank/GeneralTank <= \\sigma_{u, al}),\n",
       "     gpkit.PosynomialInequality(m_TankSystem.1/HeliumTank/GeneralTank >= 6.28*\\rho_{Al}*l_TankSystem.1/HeliumTank/GeneralTank*r_TankSystem.1/HeliumTank/GeneralTank*t_TankSystem.1/HeliumTank/GeneralTank + 6.28*\\rho_{Al}*r_TankSystem.1/HeliumTank/GeneralTank**2*t_TankSystem.1/HeliumTank/GeneralTank)],\n",
       "    [gpkit.MonomialEquality(3.14*P_{He, initial}_TankSystem.1/HeliumTank*l_TankSystem.1/HeliumTank/GeneralTank*r_TankSystem.1/HeliumTank/GeneralTank**2 = 2.08*T_TankSystem.1/HeliumTank*m_{He}_TankSystem.1/HeliumTank)]]],\n",
       "  [gpkit.MonomialEquality(3.14*P_{expected}_TankSystem.1/MainTank*l_TankSystem.1/MainTank/GeneralTank*r_TankSystem.1/MainTank/GeneralTank**2 = 2.08*T_TankSystem.1/HeliumTank*m_{He}_TankSystem.1/HeliumTank)],\n",
       "  gpkit.PosynomialInequality(m_TankSystem.1 >= m_TankSystem.1/HeliumTank + m_TankSystem.1/MainTank)]]"
      ]
     },
     "execution_count": 40,
     "metadata": {},
     "output_type": "execute_result"
    }
   ],
   "source": [
    "problem"
   ]
  },
  {
   "cell_type": "code",
   "execution_count": 41,
   "metadata": {
    "scrolled": false
   },
   "outputs": [
    {
     "ename": "ValueError",
     "evalue": "Geometric Program is not fully bounded:\n  \\sigma_{y, al} has no upper bound\n  \\sigma_{u, al} has no upper bound\n  \\rho_{Al} has no lower bound",
     "output_type": "error",
     "traceback": [
      "\u001b[0;31m---------------------------------------------------------------------------\u001b[0m",
      "\u001b[0;31mValueError\u001b[0m                                Traceback (most recent call last)",
      "\u001b[0;32m<ipython-input-41-ec778e07f40d>\u001b[0m in \u001b[0;36m<module>\u001b[0;34m\u001b[0m\n\u001b[0;32m----> 1\u001b[0;31m \u001b[0mprint\u001b[0m\u001b[0;34m(\u001b[0m\u001b[0mproblem\u001b[0m\u001b[0;34m.\u001b[0m\u001b[0msolve\u001b[0m\u001b[0;34m(\u001b[0m\u001b[0mverbosity\u001b[0m\u001b[0;34m=\u001b[0m\u001b[0;36m0\u001b[0m\u001b[0;34m)\u001b[0m\u001b[0;34m.\u001b[0m\u001b[0mtable\u001b[0m\u001b[0;34m(\u001b[0m\u001b[0;34m)\u001b[0m\u001b[0;34m)\u001b[0m\u001b[0;34m\u001b[0m\u001b[0;34m\u001b[0m\u001b[0m\n\u001b[0m",
      "\u001b[0;32m~/anaconda3/lib/python3.6/site-packages/gpkit/constraints/prog_factories.py\u001b[0m in \u001b[0;36msolvefn\u001b[0;34m(self, solver, verbosity, skipsweepfailures, **kwargs)\u001b[0m\n\u001b[1;32m    121\u001b[0m                       solver, verbosity, **kwargs)\n\u001b[1;32m    122\u001b[0m         \u001b[0;32melse\u001b[0m\u001b[0;34m:\u001b[0m\u001b[0;34m\u001b[0m\u001b[0;34m\u001b[0m\u001b[0m\n\u001b[0;32m--> 123\u001b[0;31m             \u001b[0mself\u001b[0m\u001b[0;34m.\u001b[0m\u001b[0mprogram\u001b[0m\u001b[0;34m,\u001b[0m \u001b[0mprogsolve\u001b[0m \u001b[0;34m=\u001b[0m \u001b[0mgenfunction\u001b[0m\u001b[0;34m(\u001b[0m\u001b[0mself\u001b[0m\u001b[0;34m)\u001b[0m\u001b[0;34m\u001b[0m\u001b[0;34m\u001b[0m\u001b[0m\n\u001b[0m\u001b[1;32m    124\u001b[0m             \u001b[0mresult\u001b[0m \u001b[0;34m=\u001b[0m \u001b[0mprogsolve\u001b[0m\u001b[0;34m(\u001b[0m\u001b[0msolver\u001b[0m\u001b[0;34m,\u001b[0m \u001b[0mverbosity\u001b[0m\u001b[0;34m,\u001b[0m \u001b[0;34m**\u001b[0m\u001b[0mkwargs\u001b[0m\u001b[0;34m)\u001b[0m\u001b[0;34m\u001b[0m\u001b[0;34m\u001b[0m\u001b[0m\n\u001b[1;32m    125\u001b[0m             \u001b[0msolution\u001b[0m\u001b[0;34m.\u001b[0m\u001b[0mappend\u001b[0m\u001b[0;34m(\u001b[0m\u001b[0mresult\u001b[0m\u001b[0;34m)\u001b[0m\u001b[0;34m\u001b[0m\u001b[0;34m\u001b[0m\u001b[0m\n",
      "\u001b[0;32m~/anaconda3/lib/python3.6/site-packages/gpkit/constraints/prog_factories.py\u001b[0m in \u001b[0;36mprogramify\u001b[0;34m(self, constants, **kwargs)\u001b[0m\n\u001b[1;32m     78\u001b[0m             \u001b[0;32mif\u001b[0m \u001b[0mlinked\u001b[0m\u001b[0;34m:\u001b[0m\u001b[0;34m\u001b[0m\u001b[0;34m\u001b[0m\u001b[0m\n\u001b[1;32m     79\u001b[0m                 \u001b[0mevaluate_linked\u001b[0m\u001b[0;34m(\u001b[0m\u001b[0mconstants\u001b[0m\u001b[0;34m,\u001b[0m \u001b[0mlinked\u001b[0m\u001b[0;34m)\u001b[0m\u001b[0;34m\u001b[0m\u001b[0;34m\u001b[0m\u001b[0m\n\u001b[0;32m---> 80\u001b[0;31m         \u001b[0mprog\u001b[0m \u001b[0;34m=\u001b[0m \u001b[0mprogram\u001b[0m\u001b[0;34m(\u001b[0m\u001b[0mself\u001b[0m\u001b[0;34m.\u001b[0m\u001b[0mcost\u001b[0m\u001b[0;34m,\u001b[0m \u001b[0mself\u001b[0m\u001b[0;34m,\u001b[0m \u001b[0mconstants\u001b[0m\u001b[0;34m,\u001b[0m \u001b[0;34m**\u001b[0m\u001b[0mkwargs\u001b[0m\u001b[0;34m)\u001b[0m\u001b[0;34m\u001b[0m\u001b[0;34m\u001b[0m\u001b[0m\n\u001b[0m\u001b[1;32m     81\u001b[0m         \u001b[0;32mif\u001b[0m \u001b[0mreturn_attr\u001b[0m\u001b[0;34m:\u001b[0m\u001b[0;34m\u001b[0m\u001b[0;34m\u001b[0m\u001b[0m\n\u001b[1;32m     82\u001b[0m             \u001b[0;32mreturn\u001b[0m \u001b[0mprog\u001b[0m\u001b[0;34m,\u001b[0m \u001b[0mgetattr\u001b[0m\u001b[0;34m(\u001b[0m\u001b[0mprog\u001b[0m\u001b[0;34m,\u001b[0m \u001b[0mreturn_attr\u001b[0m\u001b[0;34m)\u001b[0m\u001b[0;34m\u001b[0m\u001b[0;34m\u001b[0m\u001b[0m\n",
      "\u001b[0;32m~/anaconda3/lib/python3.6/site-packages/gpkit/constraints/gp.py\u001b[0m in \u001b[0;36m__init__\u001b[0;34m(self, cost, constraints, substitutions, allow_missingbounds)\u001b[0m\n\u001b[1;32m    109\u001b[0m                                   for (v, b), x in self.missingbounds.items())\n\u001b[1;32m    110\u001b[0m             raise ValueError(\"Geometric Program is not fully bounded:\\n\"\n\u001b[0;32m--> 111\u001b[0;31m                              + boundstrs)\n\u001b[0m\u001b[1;32m    112\u001b[0m \u001b[0;34m\u001b[0m\u001b[0m\n\u001b[1;32m    113\u001b[0m     \u001b[0;32mdef\u001b[0m \u001b[0mgen\u001b[0m\u001b[0;34m(\u001b[0m\u001b[0mself\u001b[0m\u001b[0;34m)\u001b[0m\u001b[0;34m:\u001b[0m\u001b[0;34m\u001b[0m\u001b[0;34m\u001b[0m\u001b[0m\n",
      "\u001b[0;31mValueError\u001b[0m: Geometric Program is not fully bounded:\n  \\sigma_{y, al} has no upper bound\n  \\sigma_{u, al} has no upper bound\n  \\rho_{Al} has no lower bound"
     ]
    }
   ],
   "source": [
    "print(problem.solve(verbosity=0).table())"
   ]
  },
  {
   "cell_type": "code",
   "execution_count": 42,
   "metadata": {},
   "outputs": [
    {
     "ename": "ValueError",
     "evalue": "Geometric Program is not fully bounded:\n  \\sigma_{y, al} has no upper bound\n  \\sigma_{u, al} has no upper bound\n  \\rho_{Al} has no lower bound",
     "output_type": "error",
     "traceback": [
      "\u001b[0;31m---------------------------------------------------------------------------\u001b[0m",
      "\u001b[0;31mValueError\u001b[0m                                Traceback (most recent call last)",
      "\u001b[0;32m<ipython-input-42-57da64b33418>\u001b[0m in \u001b[0;36m<module>\u001b[0;34m\u001b[0m\n\u001b[0;32m----> 1\u001b[0;31m \u001b[0mproblem\u001b[0m\u001b[0;34m.\u001b[0m\u001b[0msolve\u001b[0m\u001b[0;34m(\u001b[0m\u001b[0mverbosity\u001b[0m\u001b[0;34m=\u001b[0m\u001b[0;36m0\u001b[0m\u001b[0;34m)\u001b[0m\u001b[0;34m\u001b[0m\u001b[0;34m\u001b[0m\u001b[0m\n\u001b[0m",
      "\u001b[0;32m~/anaconda3/lib/python3.6/site-packages/gpkit/constraints/prog_factories.py\u001b[0m in \u001b[0;36msolvefn\u001b[0;34m(self, solver, verbosity, skipsweepfailures, **kwargs)\u001b[0m\n\u001b[1;32m    121\u001b[0m                       solver, verbosity, **kwargs)\n\u001b[1;32m    122\u001b[0m         \u001b[0;32melse\u001b[0m\u001b[0;34m:\u001b[0m\u001b[0;34m\u001b[0m\u001b[0;34m\u001b[0m\u001b[0m\n\u001b[0;32m--> 123\u001b[0;31m             \u001b[0mself\u001b[0m\u001b[0;34m.\u001b[0m\u001b[0mprogram\u001b[0m\u001b[0;34m,\u001b[0m \u001b[0mprogsolve\u001b[0m \u001b[0;34m=\u001b[0m \u001b[0mgenfunction\u001b[0m\u001b[0;34m(\u001b[0m\u001b[0mself\u001b[0m\u001b[0;34m)\u001b[0m\u001b[0;34m\u001b[0m\u001b[0;34m\u001b[0m\u001b[0m\n\u001b[0m\u001b[1;32m    124\u001b[0m             \u001b[0mresult\u001b[0m \u001b[0;34m=\u001b[0m \u001b[0mprogsolve\u001b[0m\u001b[0;34m(\u001b[0m\u001b[0msolver\u001b[0m\u001b[0;34m,\u001b[0m \u001b[0mverbosity\u001b[0m\u001b[0;34m,\u001b[0m \u001b[0;34m**\u001b[0m\u001b[0mkwargs\u001b[0m\u001b[0;34m)\u001b[0m\u001b[0;34m\u001b[0m\u001b[0;34m\u001b[0m\u001b[0m\n\u001b[1;32m    125\u001b[0m             \u001b[0msolution\u001b[0m\u001b[0;34m.\u001b[0m\u001b[0mappend\u001b[0m\u001b[0;34m(\u001b[0m\u001b[0mresult\u001b[0m\u001b[0;34m)\u001b[0m\u001b[0;34m\u001b[0m\u001b[0;34m\u001b[0m\u001b[0m\n",
      "\u001b[0;32m~/anaconda3/lib/python3.6/site-packages/gpkit/constraints/prog_factories.py\u001b[0m in \u001b[0;36mprogramify\u001b[0;34m(self, constants, **kwargs)\u001b[0m\n\u001b[1;32m     78\u001b[0m             \u001b[0;32mif\u001b[0m \u001b[0mlinked\u001b[0m\u001b[0;34m:\u001b[0m\u001b[0;34m\u001b[0m\u001b[0;34m\u001b[0m\u001b[0m\n\u001b[1;32m     79\u001b[0m                 \u001b[0mevaluate_linked\u001b[0m\u001b[0;34m(\u001b[0m\u001b[0mconstants\u001b[0m\u001b[0;34m,\u001b[0m \u001b[0mlinked\u001b[0m\u001b[0;34m)\u001b[0m\u001b[0;34m\u001b[0m\u001b[0;34m\u001b[0m\u001b[0m\n\u001b[0;32m---> 80\u001b[0;31m         \u001b[0mprog\u001b[0m \u001b[0;34m=\u001b[0m \u001b[0mprogram\u001b[0m\u001b[0;34m(\u001b[0m\u001b[0mself\u001b[0m\u001b[0;34m.\u001b[0m\u001b[0mcost\u001b[0m\u001b[0;34m,\u001b[0m \u001b[0mself\u001b[0m\u001b[0;34m,\u001b[0m \u001b[0mconstants\u001b[0m\u001b[0;34m,\u001b[0m \u001b[0;34m**\u001b[0m\u001b[0mkwargs\u001b[0m\u001b[0;34m)\u001b[0m\u001b[0;34m\u001b[0m\u001b[0;34m\u001b[0m\u001b[0m\n\u001b[0m\u001b[1;32m     81\u001b[0m         \u001b[0;32mif\u001b[0m \u001b[0mreturn_attr\u001b[0m\u001b[0;34m:\u001b[0m\u001b[0;34m\u001b[0m\u001b[0;34m\u001b[0m\u001b[0m\n\u001b[1;32m     82\u001b[0m             \u001b[0;32mreturn\u001b[0m \u001b[0mprog\u001b[0m\u001b[0;34m,\u001b[0m \u001b[0mgetattr\u001b[0m\u001b[0;34m(\u001b[0m\u001b[0mprog\u001b[0m\u001b[0;34m,\u001b[0m \u001b[0mreturn_attr\u001b[0m\u001b[0;34m)\u001b[0m\u001b[0;34m\u001b[0m\u001b[0;34m\u001b[0m\u001b[0m\n",
      "\u001b[0;32m~/anaconda3/lib/python3.6/site-packages/gpkit/constraints/gp.py\u001b[0m in \u001b[0;36m__init__\u001b[0;34m(self, cost, constraints, substitutions, allow_missingbounds)\u001b[0m\n\u001b[1;32m    109\u001b[0m                                   for (v, b), x in self.missingbounds.items())\n\u001b[1;32m    110\u001b[0m             raise ValueError(\"Geometric Program is not fully bounded:\\n\"\n\u001b[0;32m--> 111\u001b[0;31m                              + boundstrs)\n\u001b[0m\u001b[1;32m    112\u001b[0m \u001b[0;34m\u001b[0m\u001b[0m\n\u001b[1;32m    113\u001b[0m     \u001b[0;32mdef\u001b[0m \u001b[0mgen\u001b[0m\u001b[0;34m(\u001b[0m\u001b[0mself\u001b[0m\u001b[0;34m)\u001b[0m\u001b[0;34m:\u001b[0m\u001b[0;34m\u001b[0m\u001b[0;34m\u001b[0m\u001b[0m\n",
      "\u001b[0;31mValueError\u001b[0m: Geometric Program is not fully bounded:\n  \\sigma_{y, al} has no upper bound\n  \\sigma_{u, al} has no upper bound\n  \\rho_{Al} has no lower bound"
     ]
    }
   ],
   "source": [
    "problem.solve(verbosity=0)"
   ]
  },
  {
   "cell_type": "code",
   "execution_count": 44,
   "metadata": {},
   "outputs": [
    {
     "name": "stdout",
     "output_type": "stream",
     "text": [
      "< DEBUGGING >\n",
      "> Trying with bounded variables and relaxed constants:\n",
      ">> Failure.\n",
      "> Trying with relaxed constraints:\n"
     ]
    },
    {
     "ename": "IndexError",
     "evalue": "index 1 is out of bounds for axis 0 with size 1",
     "output_type": "error",
     "traceback": [
      "\u001b[0;31m---------------------------------------------------------------------------\u001b[0m",
      "\u001b[0;31mRuntimeWarning\u001b[0m                            Traceback (most recent call last)",
      "\u001b[0;32m~/anaconda3/lib/python3.6/site-packages/gpkit/constraints/model.py\u001b[0m in \u001b[0;36mdebug\u001b[0;34m(self, solver, verbosity, **solveargs)\u001b[0m\n\u001b[1;32m    219\u001b[0m             \u001b[0;32mtry\u001b[0m\u001b[0;34m:\u001b[0m\u001b[0;34m\u001b[0m\u001b[0;34m\u001b[0m\u001b[0m\n\u001b[0;32m--> 220\u001b[0;31m                 \u001b[0msol\u001b[0m \u001b[0;34m=\u001b[0m \u001b[0mfeas\u001b[0m\u001b[0;34m.\u001b[0m\u001b[0msolve\u001b[0m\u001b[0;34m(\u001b[0m\u001b[0;34m**\u001b[0m\u001b[0msolveargs\u001b[0m\u001b[0;34m)\u001b[0m\u001b[0;34m\u001b[0m\u001b[0;34m\u001b[0m\u001b[0m\n\u001b[0m\u001b[1;32m    221\u001b[0m             \u001b[0;32mexcept\u001b[0m \u001b[0mInvalidGPConstraint\u001b[0m\u001b[0;34m:\u001b[0m\u001b[0;34m\u001b[0m\u001b[0;34m\u001b[0m\u001b[0m\n",
      "\u001b[0;32m~/anaconda3/lib/python3.6/site-packages/gpkit/constraints/prog_factories.py\u001b[0m in \u001b[0;36msolvefn\u001b[0;34m(self, solver, verbosity, skipsweepfailures, **kwargs)\u001b[0m\n\u001b[1;32m    123\u001b[0m             \u001b[0mself\u001b[0m\u001b[0;34m.\u001b[0m\u001b[0mprogram\u001b[0m\u001b[0;34m,\u001b[0m \u001b[0mprogsolve\u001b[0m \u001b[0;34m=\u001b[0m \u001b[0mgenfunction\u001b[0m\u001b[0;34m(\u001b[0m\u001b[0mself\u001b[0m\u001b[0;34m)\u001b[0m\u001b[0;34m\u001b[0m\u001b[0;34m\u001b[0m\u001b[0m\n\u001b[0;32m--> 124\u001b[0;31m             \u001b[0mresult\u001b[0m \u001b[0;34m=\u001b[0m \u001b[0mprogsolve\u001b[0m\u001b[0;34m(\u001b[0m\u001b[0msolver\u001b[0m\u001b[0;34m,\u001b[0m \u001b[0mverbosity\u001b[0m\u001b[0;34m,\u001b[0m \u001b[0;34m**\u001b[0m\u001b[0mkwargs\u001b[0m\u001b[0;34m)\u001b[0m\u001b[0;34m\u001b[0m\u001b[0;34m\u001b[0m\u001b[0m\n\u001b[0m\u001b[1;32m    125\u001b[0m             \u001b[0msolution\u001b[0m\u001b[0;34m.\u001b[0m\u001b[0mappend\u001b[0m\u001b[0;34m(\u001b[0m\u001b[0mresult\u001b[0m\u001b[0;34m)\u001b[0m\u001b[0;34m\u001b[0m\u001b[0;34m\u001b[0m\u001b[0m\n",
      "\u001b[0;32m~/anaconda3/lib/python3.6/site-packages/gpkit/constraints/gp.py\u001b[0m in \u001b[0;36msolve\u001b[0;34m(self, solver, verbosity, warn_on_check, process_result, gen_result, **kwargs)\u001b[0m\n\u001b[1;32m    178\u001b[0m                 \u001b[0;34m\"program._compile_result(program.solver_out).\"\u001b[0m \u001b[0;34m%\u001b[0m\u001b[0;34m\u001b[0m\u001b[0;34m\u001b[0m\u001b[0m\n\u001b[0;32m--> 179\u001b[0;31m                 (solvername, solver_status))\n\u001b[0m\u001b[1;32m    180\u001b[0m \u001b[0;34m\u001b[0m\u001b[0m\n",
      "\u001b[0;31mRuntimeWarning\u001b[0m: final status of solver 'cvxopt' was 'unknown', not 'optimal'.\n\nThe solver's result is stored in model.program.solver_out. A result dict can be generated via program._compile_result(program.solver_out).",
      "\nDuring handling of the above exception, another exception occurred:\n",
      "\u001b[0;31mIndexError\u001b[0m                                Traceback (most recent call last)",
      "\u001b[0;32m<ipython-input-44-95ad630cae73>\u001b[0m in \u001b[0;36m<module>\u001b[0;34m\u001b[0m\n\u001b[0;32m----> 1\u001b[0;31m \u001b[0mproblem\u001b[0m\u001b[0;34m.\u001b[0m\u001b[0mdebug\u001b[0m\u001b[0;34m(\u001b[0m\u001b[0;34m)\u001b[0m\u001b[0;34m\u001b[0m\u001b[0;34m\u001b[0m\u001b[0m\n\u001b[0m",
      "\u001b[0;32m~/anaconda3/lib/python3.6/site-packages/gpkit/constraints/model.py\u001b[0m in \u001b[0;36mdebug\u001b[0;34m(self, solver, verbosity, **solveargs)\u001b[0m\n\u001b[1;32m    244\u001b[0m \u001b[0;34m\u001b[0m\u001b[0m\n\u001b[1;32m    245\u001b[0m             \u001b[0;32mtry\u001b[0m\u001b[0;34m:\u001b[0m\u001b[0;34m\u001b[0m\u001b[0;34m\u001b[0m\u001b[0m\n\u001b[0;32m--> 246\u001b[0;31m                 \u001b[0mconstrsrelaxed\u001b[0m \u001b[0;34m=\u001b[0m \u001b[0mConstraintsRelaxed\u001b[0m\u001b[0;34m(\u001b[0m\u001b[0mself\u001b[0m\u001b[0;34m)\u001b[0m\u001b[0;34m\u001b[0m\u001b[0;34m\u001b[0m\u001b[0m\n\u001b[0m\u001b[1;32m    247\u001b[0m                 feas = Model(constrsrelaxed.relaxvars.prod()**30 * self.cost,\n\u001b[1;32m    248\u001b[0m                              constrsrelaxed)\n",
      "\u001b[0;32m~/anaconda3/lib/python3.6/site-packages/gpkit/constraints/relax.py\u001b[0m in \u001b[0;36m__init__\u001b[0;34m(self, constraints)\u001b[0m\n\u001b[1;32m     77\u001b[0m             \u001b[0;32mfor\u001b[0m \u001b[0mi\u001b[0m\u001b[0;34m,\u001b[0m \u001b[0mconstraint\u001b[0m \u001b[0;32min\u001b[0m \u001b[0menumerate\u001b[0m\u001b[0;34m(\u001b[0m\u001b[0mconstraints\u001b[0m\u001b[0;34m.\u001b[0m\u001b[0mflat\u001b[0m\u001b[0;34m(\u001b[0m\u001b[0;34m)\u001b[0m\u001b[0;34m)\u001b[0m\u001b[0;34m:\u001b[0m\u001b[0;34m\u001b[0m\u001b[0;34m\u001b[0m\u001b[0m\n\u001b[1;32m     78\u001b[0m                 \u001b[0mself\u001b[0m\u001b[0;34m.\u001b[0m\u001b[0morigconstrs\u001b[0m\u001b[0;34m.\u001b[0m\u001b[0mappend\u001b[0m\u001b[0;34m(\u001b[0m\u001b[0mconstraint\u001b[0m\u001b[0;34m)\u001b[0m\u001b[0;34m\u001b[0m\u001b[0;34m\u001b[0m\u001b[0m\n\u001b[0;32m---> 79\u001b[0;31m                 \u001b[0mrelconstraints\u001b[0m\u001b[0;34m.\u001b[0m\u001b[0mappend\u001b[0m\u001b[0;34m(\u001b[0m\u001b[0mconstraint\u001b[0m\u001b[0;34m.\u001b[0m\u001b[0mrelaxed\u001b[0m\u001b[0;34m(\u001b[0m\u001b[0mself\u001b[0m\u001b[0;34m.\u001b[0m\u001b[0mrelaxvars\u001b[0m\u001b[0;34m[\u001b[0m\u001b[0mi\u001b[0m\u001b[0;34m]\u001b[0m\u001b[0;34m)\u001b[0m\u001b[0;34m)\u001b[0m\u001b[0;34m\u001b[0m\u001b[0;34m\u001b[0m\u001b[0m\n\u001b[0m\u001b[1;32m     80\u001b[0m         ConstraintSet.__init__(self, {\n\u001b[1;32m     81\u001b[0m             \u001b[0;34m\"relaxed constraints\"\u001b[0m\u001b[0;34m:\u001b[0m \u001b[0mrelconstraints\u001b[0m\u001b[0;34m,\u001b[0m\u001b[0;34m\u001b[0m\u001b[0;34m\u001b[0m\u001b[0m\n",
      "\u001b[0;31mIndexError\u001b[0m: index 1 is out of bounds for axis 0 with size 1"
     ]
    }
   ],
   "source": [
    "problem.debug()"
   ]
  },
  {
   "cell_type": "code",
   "execution_count": null,
   "metadata": {},
   "outputs": [],
   "source": []
  }
 ],
 "metadata": {
  "kernelspec": {
   "display_name": "Python 3",
   "language": "python",
   "name": "python3"
  },
  "language_info": {
   "codemirror_mode": {
    "name": "ipython",
    "version": 3
   },
   "file_extension": ".py",
   "mimetype": "text/x-python",
   "name": "python",
   "nbconvert_exporter": "python",
   "pygments_lexer": "ipython3",
   "version": "3.6.7"
  }
 },
 "nbformat": 4,
 "nbformat_minor": 2
}
