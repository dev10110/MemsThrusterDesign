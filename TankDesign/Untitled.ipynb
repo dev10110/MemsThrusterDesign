{
 "cells": [
  {
   "cell_type": "markdown",
   "metadata": {},
   "source": [
    "This file runs gpkit to optimize the design of the tank.\n",
    "There are two tanks, the helium pressurant tank, at some operating pressure, to be determined, and a diaphragm water tank, at some prescribed pressure. \n",
    "\n",
    "The safety factor has to be taken into account, and the volume of helium required needs to be estimated based on the initial tank's water storage requirement. \n",
    "\n",
    "This file contains a toy problem, to get used to gpkit. "
   ]
  },
  {
   "cell_type": "code",
   "execution_count": 62,
   "metadata": {},
   "outputs": [],
   "source": [
    "import gpkit\n",
    "from gpkit import Variable, VectorVariable, Model\n",
    "import numpy as np"
   ]
  },
  {
   "cell_type": "code",
   "execution_count": 83,
   "metadata": {},
   "outputs": [],
   "source": [
    "V_W = Variable(\"V_W\", 0.35, \"L\", \"Volume of water in tank at start\")\n",
    "\n",
    "r = Variable(\"r\", \"cm\", \"tank radius\")\n",
    "r_max = Variable(\"r_max\", 5, \"cm\", \"max tank radius\")\n",
    "r_min = Variable(\"r_min\", 1, \"cm\", \"min tank radius\")\n",
    "\n",
    "l = Variable(\"l\", \"cm\", \"tank length\")\n",
    "l_max = Variable(\"l_max\", 10, \"cm\", \"max tank length\")\n",
    "l_min = Variable(\"l_min\", 1, \"cm\", \"min tank length\")\n",
    "\n",
    "\n",
    "t = Variable(\"t\", \"mm\", \"tank thickness\")\n",
    "rho = Variable(\"rho\", 1000, \"kg/m^3\", \"water density\")\n",
    "\n",
    "P = Variable(\"P\", 4,  \"bar\", \"internal design pressure of tank\")\n",
    "\n",
    "P_MDP = Variable(\"P_MDP\", \"Pa\",\"maximum design pressure of tank\")\n",
    "\n",
    "P_Y = Variable(\"P_Y\", \"Pa\", \"max yield pressure\")\n",
    "\n",
    "P_burst = Variable(\"P_burst\", \"Pa\",\"max burst pressure\")\n",
    "\n",
    "sigma_vm_y = Variable(\"sigma_vm_y\", \"Pa\", \"von misses yield pressure\")\n",
    "\n",
    "E = Variable(\"E\", 70, \"GPa\", \"Aluminium youngs modulus\")"
   ]
  },
  {
   "cell_type": "code",
   "execution_count": 84,
   "metadata": {},
   "outputs": [],
   "source": [
    "FOS_MDP = 2\n",
    "FOS_Y = 1.1\n",
    "FOS_burst = 1.5\n"
   ]
  },
  {
   "cell_type": "code",
   "execution_count": 85,
   "metadata": {},
   "outputs": [
    {
     "data": {
      "text/plain": [
       "(gpkit.PosynomialInequality(P_burst >= 1.5*P_MDP),)"
      ]
     },
     "execution_count": 85,
     "metadata": {},
     "output_type": "execute_result"
    }
   ],
   "source": [
    "               P_MDP >= P * FOS_MDP,\n",
    "               P_Y >= P_MDP * FOS_Y,\n",
    "               P_burst >= P_MDP * FOS_burst, "
   ]
  },
  {
   "cell_type": "code",
   "execution_count": 92,
   "metadata": {},
   "outputs": [],
   "source": [
    "constraints = (V_W == np.pi*r**2*l,\n",
    "               sigma_vm_y <= E, \n",
    "               sigma_vm_y >= (np.sqrt(3)/2)*(P*r/t),\n",
    "               r >= 1*gpkit.ureg.cm,\n",
    "               r <= 5*gpkit.ureg.cm, \n",
    "               l >= 1*gpkit.ureg.cm,\n",
    "               l <= 10*gpkit.ureg.cm,\n",
    "               V_W == 0.35*1*gpkit.ureg.L,\n",
    "               E == 70*gpkit.ureg.GPa,\n",
    "               P == 4*1*gpkit.ureg.bar,\n",
    "              )\n",
    "\n",
    "constraints = (V_W == np.pi*r**2*l,\n",
    "               sigma_vm_y <= E, \n",
    "               sigma_vm_y >= (np.sqrt(3)/2)*(P*r/t),\n",
    "               V_W == 0.35*1*gpkit.ureg.L\n",
    "              )\n",
    "\n",
    "\n",
    "obj = 2*np.pi*r*l*t + 2*np.pi*r**2*t\n",
    "obj = 2*np.pi*r*l*t"
   ]
  },
  {
   "cell_type": "code",
   "execution_count": 93,
   "metadata": {},
   "outputs": [
    {
     "data": {
      "text/plain": [
       "(gpkit.MonomialEquality(V_W = 3.14*l*r**2),\n",
       " gpkit.PosynomialInequality(sigma_vm_y <= E),\n",
       " gpkit.PosynomialInequality(sigma_vm_y >= 0.866*P*r*t**-1),\n",
       " gpkit.MonomialEquality(V_W = 0.35))"
      ]
     },
     "execution_count": 93,
     "metadata": {},
     "output_type": "execute_result"
    }
   ],
   "source": [
    "constraints"
   ]
  },
  {
   "cell_type": "code",
   "execution_count": 94,
   "metadata": {
    "scrolled": true
   },
   "outputs": [
    {
     "ename": "ValueError",
     "evalue": "Geometric Program is not fully bounded:\n  E has no upper bound\n  P has no lower bound",
     "output_type": "error",
     "traceback": [
      "\u001b[0;31m---------------------------------------------------------------------------\u001b[0m",
      "\u001b[0;31mValueError\u001b[0m                                Traceback (most recent call last)",
      "\u001b[0;32m<ipython-input-94-760a6293cbd3>\u001b[0m in \u001b[0;36m<module>\u001b[0;34m\u001b[0m\n\u001b[1;32m      1\u001b[0m \u001b[0mm\u001b[0m \u001b[0;34m=\u001b[0m \u001b[0mModel\u001b[0m\u001b[0;34m(\u001b[0m\u001b[0mobj\u001b[0m\u001b[0;34m,\u001b[0m \u001b[0mconstraints\u001b[0m\u001b[0;34m)\u001b[0m\u001b[0;34m\u001b[0m\u001b[0;34m\u001b[0m\u001b[0m\n\u001b[0;32m----> 2\u001b[0;31m \u001b[0msol\u001b[0m \u001b[0;34m=\u001b[0m \u001b[0mm\u001b[0m\u001b[0;34m.\u001b[0m\u001b[0msolve\u001b[0m\u001b[0;34m(\u001b[0m\u001b[0mverbosity\u001b[0m\u001b[0;34m=\u001b[0m\u001b[0;36m0\u001b[0m\u001b[0;34m)\u001b[0m\u001b[0;34m\u001b[0m\u001b[0;34m\u001b[0m\u001b[0m\n\u001b[0m\u001b[1;32m      3\u001b[0m \u001b[0mprint\u001b[0m\u001b[0;34m(\u001b[0m\u001b[0msol\u001b[0m\u001b[0;34m.\u001b[0m\u001b[0msummary\u001b[0m\u001b[0;34m(\u001b[0m\u001b[0;34m)\u001b[0m\u001b[0;34m)\u001b[0m\u001b[0;34m\u001b[0m\u001b[0;34m\u001b[0m\u001b[0m\n",
      "\u001b[0;32m~/anaconda3/lib/python3.6/site-packages/gpkit/constraints/prog_factories.py\u001b[0m in \u001b[0;36msolvefn\u001b[0;34m(self, solver, verbosity, skipsweepfailures, **kwargs)\u001b[0m\n\u001b[1;32m    121\u001b[0m                       solver, verbosity, **kwargs)\n\u001b[1;32m    122\u001b[0m         \u001b[0;32melse\u001b[0m\u001b[0;34m:\u001b[0m\u001b[0;34m\u001b[0m\u001b[0;34m\u001b[0m\u001b[0m\n\u001b[0;32m--> 123\u001b[0;31m             \u001b[0mself\u001b[0m\u001b[0;34m.\u001b[0m\u001b[0mprogram\u001b[0m\u001b[0;34m,\u001b[0m \u001b[0mprogsolve\u001b[0m \u001b[0;34m=\u001b[0m \u001b[0mgenfunction\u001b[0m\u001b[0;34m(\u001b[0m\u001b[0mself\u001b[0m\u001b[0;34m)\u001b[0m\u001b[0;34m\u001b[0m\u001b[0;34m\u001b[0m\u001b[0m\n\u001b[0m\u001b[1;32m    124\u001b[0m             \u001b[0mresult\u001b[0m \u001b[0;34m=\u001b[0m \u001b[0mprogsolve\u001b[0m\u001b[0;34m(\u001b[0m\u001b[0msolver\u001b[0m\u001b[0;34m,\u001b[0m \u001b[0mverbosity\u001b[0m\u001b[0;34m,\u001b[0m \u001b[0;34m**\u001b[0m\u001b[0mkwargs\u001b[0m\u001b[0;34m)\u001b[0m\u001b[0;34m\u001b[0m\u001b[0;34m\u001b[0m\u001b[0m\n\u001b[1;32m    125\u001b[0m             \u001b[0msolution\u001b[0m\u001b[0;34m.\u001b[0m\u001b[0mappend\u001b[0m\u001b[0;34m(\u001b[0m\u001b[0mresult\u001b[0m\u001b[0;34m)\u001b[0m\u001b[0;34m\u001b[0m\u001b[0;34m\u001b[0m\u001b[0m\n",
      "\u001b[0;32m~/anaconda3/lib/python3.6/site-packages/gpkit/constraints/prog_factories.py\u001b[0m in \u001b[0;36mprogramify\u001b[0;34m(self, constants, **kwargs)\u001b[0m\n\u001b[1;32m     78\u001b[0m             \u001b[0;32mif\u001b[0m \u001b[0mlinked\u001b[0m\u001b[0;34m:\u001b[0m\u001b[0;34m\u001b[0m\u001b[0;34m\u001b[0m\u001b[0m\n\u001b[1;32m     79\u001b[0m                 \u001b[0mevaluate_linked\u001b[0m\u001b[0;34m(\u001b[0m\u001b[0mconstants\u001b[0m\u001b[0;34m,\u001b[0m \u001b[0mlinked\u001b[0m\u001b[0;34m)\u001b[0m\u001b[0;34m\u001b[0m\u001b[0;34m\u001b[0m\u001b[0m\n\u001b[0;32m---> 80\u001b[0;31m         \u001b[0mprog\u001b[0m \u001b[0;34m=\u001b[0m \u001b[0mprogram\u001b[0m\u001b[0;34m(\u001b[0m\u001b[0mself\u001b[0m\u001b[0;34m.\u001b[0m\u001b[0mcost\u001b[0m\u001b[0;34m,\u001b[0m \u001b[0mself\u001b[0m\u001b[0;34m,\u001b[0m \u001b[0mconstants\u001b[0m\u001b[0;34m,\u001b[0m \u001b[0;34m**\u001b[0m\u001b[0mkwargs\u001b[0m\u001b[0;34m)\u001b[0m\u001b[0;34m\u001b[0m\u001b[0;34m\u001b[0m\u001b[0m\n\u001b[0m\u001b[1;32m     81\u001b[0m         \u001b[0;32mif\u001b[0m \u001b[0mreturn_attr\u001b[0m\u001b[0;34m:\u001b[0m\u001b[0;34m\u001b[0m\u001b[0;34m\u001b[0m\u001b[0m\n\u001b[1;32m     82\u001b[0m             \u001b[0;32mreturn\u001b[0m \u001b[0mprog\u001b[0m\u001b[0;34m,\u001b[0m \u001b[0mgetattr\u001b[0m\u001b[0;34m(\u001b[0m\u001b[0mprog\u001b[0m\u001b[0;34m,\u001b[0m \u001b[0mreturn_attr\u001b[0m\u001b[0;34m)\u001b[0m\u001b[0;34m\u001b[0m\u001b[0;34m\u001b[0m\u001b[0m\n",
      "\u001b[0;32m~/anaconda3/lib/python3.6/site-packages/gpkit/constraints/gp.py\u001b[0m in \u001b[0;36m__init__\u001b[0;34m(self, cost, constraints, substitutions, allow_missingbounds)\u001b[0m\n\u001b[1;32m    109\u001b[0m                                   for (v, b), x in self.missingbounds.items())\n\u001b[1;32m    110\u001b[0m             raise ValueError(\"Geometric Program is not fully bounded:\\n\"\n\u001b[0;32m--> 111\u001b[0;31m                              + boundstrs)\n\u001b[0m\u001b[1;32m    112\u001b[0m \u001b[0;34m\u001b[0m\u001b[0m\n\u001b[1;32m    113\u001b[0m     \u001b[0;32mdef\u001b[0m \u001b[0mgen\u001b[0m\u001b[0;34m(\u001b[0m\u001b[0mself\u001b[0m\u001b[0;34m)\u001b[0m\u001b[0;34m:\u001b[0m\u001b[0;34m\u001b[0m\u001b[0;34m\u001b[0m\u001b[0m\n",
      "\u001b[0;31mValueError\u001b[0m: Geometric Program is not fully bounded:\n  E has no upper bound\n  P has no lower bound"
     ]
    }
   ],
   "source": [
    "m = Model(obj, constraints)\n",
    "sol = m.solve(verbosity=0)\n",
    "print(sol.summary())"
   ]
  },
  {
   "cell_type": "code",
   "execution_count": 76,
   "metadata": {},
   "outputs": [
    {
     "data": {
      "text/latex": [
       "$$V_W\\mathrm{~\\left[ \\mathrm{l} \\right]}$$"
      ],
      "text/plain": [
       "gpkit.Variable(V_W [l])"
      ]
     },
     "execution_count": 76,
     "metadata": {},
     "output_type": "execute_result"
    }
   ],
   "source": [
    "V_W"
   ]
  },
  {
   "cell_type": "code",
   "execution_count": null,
   "metadata": {},
   "outputs": [],
   "source": []
  },
  {
   "cell_type": "code",
   "execution_count": null,
   "metadata": {},
   "outputs": [],
   "source": []
  }
 ],
 "metadata": {
  "kernelspec": {
   "display_name": "Python 3",
   "language": "python",
   "name": "python3"
  },
  "language_info": {
   "codemirror_mode": {
    "name": "ipython",
    "version": 3
   },
   "file_extension": ".py",
   "mimetype": "text/x-python",
   "name": "python",
   "nbconvert_exporter": "python",
   "pygments_lexer": "ipython3",
   "version": "3.6.7"
  }
 },
 "nbformat": 4,
 "nbformat_minor": 2
}
