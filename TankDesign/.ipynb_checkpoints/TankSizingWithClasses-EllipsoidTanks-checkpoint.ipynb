{
 "cells": [
  {
   "cell_type": "code",
   "execution_count": 1,
   "metadata": {},
   "outputs": [
    {
     "name": "stdout",
     "output_type": "stream",
     "text": [
      "​"
     ]
    }
   ],
   "source": [
    "import numpy as np\n",
    "import gpkit\n",
    "from gpkit import Model, Variable"
   ]
  },
  {
   "cell_type": "code",
   "execution_count": 2,
   "metadata": {},
   "outputs": [],
   "source": [
    "#define a module describing the water\n",
    "class Material():\n",
    "    def __init__(self, name, rho, sigma_yield, sigma_ultimate):\n",
    "        self.name = name\n",
    "        self.rho  = rho\n",
    "        self.sigma_yield = sigma_yield\n",
    "        self.sigma_ultimate = sigma_ultimate\n",
    "        \n",
    "    def __str__(self):\n",
    "        string = f\"Material: {self.name}\"\n",
    "        \n",
    "        return string\n",
    "\n",
    "\n",
    "class Water(Model):\n",
    "    def setup(self):\n",
    "        rho = Variable(\"\\\\rho\", 1000, \"kg/m^3\", \"Water density\")\n",
    "        m   = self.m = Variable(\"m\", \"g\", \"Mass of water\")\n",
    "        V   = self.V = Variable(\"V\", \"L\", \"Volume of water\")\n",
    "        \n",
    "        V_min = 0.35*gpkit.ureg.L\n",
    "        \n",
    "        return [m == rho*V, V >= V_min]\n",
    "    \n",
    "class GeneralTank(Model):\n",
    "    def setup(self, P, material):\n",
    "        \n",
    "        #assumes the P is the maximum operating pressure \n",
    "        constraints = []\n",
    "        \n",
    "        \n",
    "        #design\n",
    "        r = self.r = Variable(\"r\", \"cm\", \"Tank Radius\")\n",
    "        t = self.t = Variable(\"t\", \"mm\", \"Tank Thickness\")\n",
    "        l = self.l = Variable(\"l\", \"cm\", \"Tank Length\")\n",
    "        \n",
    "        self.V_internal = np.pi*r**2*l\n",
    "        constraints += [r <= 5*gpkit.ureg.cm]\n",
    "        constraints += [l <= 10*gpkit.ureg.cm]\n",
    "        constraints += [r >= 10*t] #ensures thin wall approx can be used. \n",
    "        \n",
    "        #pressures\n",
    "        FOSY = Variable(\"FOSY\", 1.0, \"\", \"Factor of Safety: Yield\")\n",
    "        FOSU = Variable(\"FOSU\", 1.0, \"\", \"Factor of Safety: Ultimate\")\n",
    "        jb   = Variable(\"j_{burst}\", 1.5, \"\", \"burst factor\")\n",
    "        jp   = Variable(\"j_{proof}\", 1.25, \"\", \"proof factor\")\n",
    "        \n",
    "        P_burst = self.P_burst = Variable(\"P_{burst}\", \"bar\", \"burst pressure\")\n",
    "        P_proof = self.P_proof = Variable(\"P_{proof}\", \"bar\", \"proof pressure\")\n",
    "        \n",
    "        \n",
    "        constraints += [P_burst >= jb*(1+FOSU)*P]\n",
    "        constraints += [P_proof >= jp*(1+FOSY)*P]\n",
    "        \n",
    "        #stresses\n",
    "        sigma_vm_p = self.sigma_vm_p = Variable(\"\\\\sigma_{vm, proof}\", \"MPa\", \"Proof Von misses stress in tank\")\n",
    "        sigma_vm_b = self.sigma_vm_b = Variable(\"\\\\sigma_{vm, burst}\", \"MPa\", \"Burst Von misses stress in tank\")\n",
    "        \n",
    "        constraints += [sigma_vm_p == (np.sqrt(3)/2)*P_proof*r/t]\n",
    "        constraints += [sigma_vm_b == (np.sqrt(3)/2)*P_burst*r/t]\n",
    "        \n",
    "        constraints += [sigma_vm_p <= material.sigma_yield]\n",
    "        constraints += [sigma_vm_b <= material.sigma_ultimate]\n",
    "        \n",
    "        #mass\n",
    "        m = self.m = Variable(\"m\", \"g\", \"Mass of tank\")\n",
    "        \n",
    "        rho = self.rho = material.rho\n",
    "        \n",
    "        #mass calculator\n",
    "        constraints += [m >= rho*(2*np.pi*r*t*l + 2*np.pi*r**2*t)]\n",
    "        \n",
    "        return constraints\n",
    "\n",
    "\n",
    "\n",
    "\n",
    "class MainTank(Model):\n",
    "    def setup(self):\n",
    "        \n",
    "        #define operation condition\n",
    "        P_expected = self.P_expected = Variable(\"P_{expected}\", 4, \"bar\", \"Maximum expected pressure\")\n",
    "        T = self.T = Variable(\"T\", 300, \"K\", \"Temperature of Main Tank\")\n",
    "        \n",
    "        rho_al = Variable(\"\\\\rho_{Al}\", 2.7,\"g/cm^3\",\"Al tank density\")\n",
    "        sigma_yield = Variable(\"\\\\sigma_{y, al}\", 276, \"MPa\", \"Al yield strength\")\n",
    "        sigma_ultimate = Variable(\"\\\\sigma_{u, al}\", 310, \"MPa\", \"Al ultimate strength\")\n",
    "        al = Material('Al', rho=rho_al, sigma_yield=sigma_yield, sigma_ultimate = sigma_ultimate)\n",
    "        #define tank material\n",
    "        self.material = al\n",
    "        \n",
    "        #create tank\n",
    "        tank = self.tank = GeneralTank(P_expected, material = self.material)\n",
    "        \n",
    "        #create water\n",
    "        water = Water()\n",
    "        #assemble components\n",
    "        components = self.components = [water, tank]\n",
    "        \n",
    "        constraints = []        \n",
    "        constraints += components\n",
    "        \n",
    "        #require water to fit in tank\n",
    "        constraints += [water.V <= tank.V_internal]\n",
    "        \n",
    "        #determine total mass\n",
    "        m = self.m = Variable(\"m\", \"g\", \" Main Tank Mass\")\n",
    "        \n",
    "        constraints += [m >= sum(comp.m for comp in components)]\n",
    "        \n",
    "        return constraints\n",
    "    \n",
    "    \n",
    "class Helium(Model):\n",
    "    def setup(self, P, V, m, T):\n",
    "        #describes the ideal gas law of helium\n",
    "        constraints = []\n",
    "        #gas constants\n",
    "        R = 8.31446261815324*(gpkit.ureg.J/gpkit.ureg.K)/gpkit.ureg.mol\n",
    "        M = 4.002602*gpkit.ureg.g/gpkit.ureg.mol\n",
    "        \n",
    "        self.m = m\n",
    "        \n",
    "        constraints += [P*V == m*R*T/M]\n",
    "        \n",
    "        return constraints\n",
    "    \n",
    "class HeliumTank(Model):\n",
    "    def setup(self):\n",
    "        \n",
    "        constraints = []\n",
    "        components = self.components = []\n",
    "        \n",
    "        #create tank\n",
    "        P_He_i = self.P_He_i = Variable(\"P_{He, initial}\", \"bar\", \"Initial maximum expected pressure of Helium Tank\")\n",
    "        \n",
    "        rho_al = Variable(\"\\\\rho_{Al}\", 2.7,\"g/cm^3\",\"Al tank density\")\n",
    "        sigma_yield = Variable(\"\\\\sigma_{y, al}\", 276, \"MPa\", \"Al yield strength\")\n",
    "        sigma_ultimate = Variable(\"\\\\sigma_{u, al}\", 310, \"MPa\", \"Al ultimate strength\")\n",
    "        al = Material('Al', rho=rho_al, sigma_yield=sigma_yield, sigma_ultimate = sigma_ultimate)\n",
    "        \n",
    "        tank = self.tank = GeneralTank(P_He_i, material = al)\n",
    "        components += [tank]\n",
    "        \n",
    "        #create helium\n",
    "        m_He = self.m_He = Variable(\"m_{He}\", \"g\", \"Mass of Helium\")\n",
    "        T = self.T = Variable(\"T\", \"K\", \"Helium Temperature\")\n",
    "        \n",
    "        #constraints += [m_He >= 1*gpkit.ureg.g] #define minimum mass of Helium\n",
    "        constraints += [T >= 100*gpkit.ureg.K, T <= 400*gpkit.ureg.K]\n",
    "        \n",
    "        He_initial = Helium(P = P_He_i, V = tank.V_internal, m = m_He, T = T)\n",
    "        \n",
    "        self.He_initial = He_initial\n",
    "\n",
    "        components += [He_initial]\n",
    "        \n",
    "        #determine total mass\n",
    "        m = self.m = Variable(\"m\", \"g\", \" Main Tank Mass\")\n",
    "        \n",
    "        constraints += [m >= sum(comp.m for comp in components)]\n",
    "        \n",
    "        constraints += components\n",
    "        \n",
    "        return constraints\n",
    "        \n",
    "        "
   ]
  },
  {
   "cell_type": "code",
   "execution_count": 3,
   "metadata": {},
   "outputs": [],
   "source": [
    "class TankSystem(Model):\n",
    "    def setup(self):\n",
    "        \n",
    "        constraints = []\n",
    "        \n",
    "        mainTank = MainTank()\n",
    "        heliumTank = HeliumTank()\n",
    "        \n",
    "        components = self.components = [mainTank, heliumTank]\n",
    "        constraints += [components]\n",
    "        \n",
    "        #create final helium, but dont include in mass breakdown\n",
    "        He_final = Helium(P = mainTank.P_expected, V = mainTank.tank.V_internal, m = heliumTank.m_He, T = mainTank.T)\n",
    "        \n",
    "        constraints += [He_final]\n",
    "        #constraints += [He_initial.m >= 1*gpkit.ureg.g]\n",
    "\n",
    "        \n",
    "        m = self.m = Variable(\"m\", \"g\", \"mass of full tank system\")\n",
    "        constraints += [m >= sum(comp.m for comp in components)]\n",
    "        \n",
    "        return constraints"
   ]
  },
  {
   "cell_type": "code",
   "execution_count": 4,
   "metadata": {},
   "outputs": [],
   "source": [
    "from gpkit.constraints.bounded import Bounded\n",
    "ht = HeliumTank()\n",
    "prob = Model(ht.m, Bounded([ht, ht.m_He>=1*gpkit.ureg.g, ht.P_He_i<=10*gpkit.ureg.bar]))\n",
    "prob = Model(ht.m, [ht, ht.m_He>=1*gpkit.ureg.g, ht.P_He_i<=10*gpkit.ureg.bar])"
   ]
  },
  {
   "cell_type": "code",
   "execution_count": 5,
   "metadata": {},
   "outputs": [
    {
     "data": {
      "text/latex": [
       "$$\\begin{array}{ll} \\text{}\n",
       "\\text{minimize}\n",
       "    & {m}_{HeliumTank} \\\\\n",
       "\\text{subject to}\n",
       "    & HeliumTank_{0} \\\\\n",
       "    & {m_{He}}_{HeliumTank} \\geq 1 \\\\\n",
       "    & {P_{He, initial}}_{HeliumTank} \\leq 10 \\\\\n",
       "\\end{array}$$"
      ],
      "text/plain": [
       "[[gpkit.PosynomialInequality(T_HeliumTank >= 100),\n",
       "  gpkit.PosynomialInequality(T_HeliumTank <= 400),\n",
       "  gpkit.PosynomialInequality(m_HeliumTank >= m_HeliumTank/GeneralTank + m_{He}_HeliumTank),\n",
       "  [gpkit.PosynomialInequality(r_HeliumTank/GeneralTank <= 5),\n",
       "   gpkit.PosynomialInequality(l_HeliumTank/GeneralTank <= 10),\n",
       "   gpkit.PosynomialInequality(r_HeliumTank/GeneralTank >= 10*t_HeliumTank/GeneralTank),\n",
       "   gpkit.PosynomialInequality(P_{burst}_HeliumTank/GeneralTank >= FOSU_HeliumTank/GeneralTank*P_{He, initial}_HeliumTank*j_{burst}_HeliumTank/GeneralTank + P_{He, initial}_HeliumTank*j_{burst}_HeliumTank/GeneralTank),\n",
       "   gpkit.PosynomialInequality(P_{proof}_HeliumTank/GeneralTank >= FOSY_HeliumTank/GeneralTank*P_{He, initial}_HeliumTank*j_{proof}_HeliumTank/GeneralTank + P_{He, initial}_HeliumTank*j_{proof}_HeliumTank/GeneralTank),\n",
       "   gpkit.MonomialEquality(\\sigma_{vm, proof}_HeliumTank/GeneralTank = 0.866*P_{proof}_HeliumTank/GeneralTank*r_HeliumTank/GeneralTank*t_HeliumTank/GeneralTank**-1),\n",
       "   gpkit.MonomialEquality(\\sigma_{vm, burst}_HeliumTank/GeneralTank = 0.866*P_{burst}_HeliumTank/GeneralTank*r_HeliumTank/GeneralTank*t_HeliumTank/GeneralTank**-1),\n",
       "   gpkit.PosynomialInequality(\\sigma_{vm, proof}_HeliumTank/GeneralTank <= \\sigma_{y, al}_HeliumTank),\n",
       "   gpkit.PosynomialInequality(\\sigma_{vm, burst}_HeliumTank/GeneralTank <= \\sigma_{u, al}_HeliumTank),\n",
       "   gpkit.PosynomialInequality(m_HeliumTank/GeneralTank >= 6.28*\\rho_{Al}_HeliumTank*l_HeliumTank/GeneralTank*r_HeliumTank/GeneralTank*t_HeliumTank/GeneralTank + 6.28*\\rho_{Al}_HeliumTank*r_HeliumTank/GeneralTank**2*t_HeliumTank/GeneralTank)],\n",
       "  [gpkit.MonomialEquality(3.14*P_{He, initial}_HeliumTank*l_HeliumTank/GeneralTank*r_HeliumTank/GeneralTank**2 = 2.08*T_HeliumTank*m_{He}_HeliumTank)]],\n",
       " gpkit.PosynomialInequality(m_{He}_HeliumTank >= 1),\n",
       " gpkit.PosynomialInequality(P_{He, initial}_HeliumTank <= 10)]"
      ]
     },
     "execution_count": 5,
     "metadata": {},
     "output_type": "execute_result"
    }
   ],
   "source": [
    "prob"
   ]
  },
  {
   "cell_type": "code",
   "execution_count": 6,
   "metadata": {},
   "outputs": [
    {
     "name": "stdout",
     "output_type": "stream",
     "text": [
      "Using solver 'cvxopt'\n",
      "Solving for 12 variables.\n",
      "Solving took 0.0195 seconds.\n",
      "\n",
      "Cost\n",
      "----\n",
      " 12.82 [g]\n",
      "\n",
      "Free Variables\n",
      "--------------\n",
      "                   | HeliumTank\n",
      "   P_{He, initial} : 10      [bar] Initial maximum expected pressure of Helium Tank\n",
      "                 T : 100     [K]   Helium Temperature\n",
      "                 m : 12.82   [g]    Main Tank Mass\n",
      "            m_{He} : 1       [g]   Mass of Helium\n",
      "\n",
      "                   | HeliumTank/GeneralTank\n",
      "         P_{burst} : 30      [bar] burst pressure\n",
      "         P_{proof} : 25.84   [bar] proof pressure\n",
      "\\sigma_{vm, burst} : 310     [MPa] Burst Von misses stress in tank\n",
      "\\sigma_{vm, proof} : 267     [MPa] Proof Von misses stress in tank\n",
      "                 l : 10      [cm]  Tank Length\n",
      "                 m : 11.82   [g]   Mass of tank\n",
      "                 r : 2.571   [cm]  Tank Radius\n",
      "                 t : 0.2155  [mm]  Tank Thickness\n",
      "\n",
      "Constants\n",
      "---------\n",
      "               | HeliumTank\n",
      "     \\rho_{Al} : 2.7   [g/cm³] Al tank density\n",
      "\\sigma_{u, al} : 310   [MPa]   Al ultimate strength\n",
      "\\sigma_{y, al} : 276   [MPa]   Al yield strength\n",
      "\n",
      "               | HeliumTank/GeneralTank\n",
      "          FOSU : 1             Factor of Safety: Ultimate\n",
      "          FOSY : 1             Factor of Safety: Yield\n",
      "     j_{burst} : 1.5           burst factor\n",
      "     j_{proof} : 1.25          proof factor\n",
      "\n",
      "Sensitivities\n",
      "-------------\n",
      "               | HeliumTank\n",
      "     \\rho_{Al} : +0.92  Al tank density\n",
      "\\sigma_{u, al} : -0.92  Al ultimate strength\n",
      "\n",
      "               | HeliumTank/GeneralTank\n",
      "     j_{burst} : +0.92  burst factor\n",
      "          FOSU : +0.46  Factor of Safety: Ultimate\n",
      "\n",
      "Tightest Constraints\n",
      "--------------------\n",
      "       |\n",
      "  +1.1 : m_{He}_HeliumTank >= 1\n",
      "\n",
      "       | HeliumTank\n",
      "    +1 : T_ >= 100\n",
      "    +1 : m_ >= m_/GeneralTank + m_{He}_\n",
      "\n",
      "       | HeliumTank/GeneralTank\n",
      " +0.92 : P_{burst}_ >= FOSU_*P_{He, initial}_HeliumTank*j_{burst}_\n",
      "           + P_{He, initial}_HeliumTank*j_{burst}_\n",
      " +0.92 : \\sigma_{vm, burst}_ <= \\sigma_{u, al}_HeliumTank\n",
      "\n"
     ]
    }
   ],
   "source": [
    "print(prob.solve().table())"
   ]
  },
  {
   "cell_type": "code",
   "execution_count": null,
   "metadata": {},
   "outputs": [],
   "source": []
  },
  {
   "cell_type": "code",
   "execution_count": null,
   "metadata": {},
   "outputs": [],
   "source": []
  },
  {
   "cell_type": "code",
   "execution_count": null,
   "metadata": {},
   "outputs": [],
   "source": []
  },
  {
   "cell_type": "code",
   "execution_count": 7,
   "metadata": {},
   "outputs": [],
   "source": [
    "ts=TankSystem()"
   ]
  },
  {
   "cell_type": "code",
   "execution_count": 8,
   "metadata": {},
   "outputs": [
    {
     "data": {
      "text/latex": [
       "$$\\begin{array}{ll} \\text{}\n",
       "\\text{minimize}\n",
       "    & {m}_{TankSystem} \\\\\n",
       "\\text{subject to}\n",
       "    & TankSystem_{0} \\\\\n",
       "\\end{array}$$"
      ],
      "text/plain": [
       "[[[[[gpkit.MonomialEquality(m_TankSystem/MainTank/Water = V_TankSystem/MainTank/Water*\\rho_TankSystem/MainTank/Water),\n",
       "     gpkit.PosynomialInequality(V_TankSystem/MainTank/Water >= 0.35)],\n",
       "    [gpkit.PosynomialInequality(r_TankSystem/MainTank/GeneralTank <= 5),\n",
       "     gpkit.PosynomialInequality(l_TankSystem/MainTank/GeneralTank <= 10),\n",
       "     gpkit.PosynomialInequality(r_TankSystem/MainTank/GeneralTank >= 10*t_TankSystem/MainTank/GeneralTank),\n",
       "     gpkit.PosynomialInequality(P_{burst}_TankSystem/MainTank/GeneralTank >= FOSU_TankSystem/MainTank/GeneralTank*P_{expected}_TankSystem/MainTank*j_{burst}_TankSystem/MainTank/GeneralTank + P_{expected}_TankSystem/MainTank*j_{burst}_TankSystem/MainTank/GeneralTank),\n",
       "     gpkit.PosynomialInequality(P_{proof}_TankSystem/MainTank/GeneralTank >= FOSY_TankSystem/MainTank/GeneralTank*P_{expected}_TankSystem/MainTank*j_{proof}_TankSystem/MainTank/GeneralTank + P_{expected}_TankSystem/MainTank*j_{proof}_TankSystem/MainTank/GeneralTank),\n",
       "     gpkit.MonomialEquality(\\sigma_{vm, proof}_TankSystem/MainTank/GeneralTank = 0.866*P_{proof}_TankSystem/MainTank/GeneralTank*r_TankSystem/MainTank/GeneralTank*t_TankSystem/MainTank/GeneralTank**-1),\n",
       "     gpkit.MonomialEquality(\\sigma_{vm, burst}_TankSystem/MainTank/GeneralTank = 0.866*P_{burst}_TankSystem/MainTank/GeneralTank*r_TankSystem/MainTank/GeneralTank*t_TankSystem/MainTank/GeneralTank**-1),\n",
       "     gpkit.PosynomialInequality(\\sigma_{vm, proof}_TankSystem/MainTank/GeneralTank <= \\sigma_{y, al}_TankSystem/MainTank),\n",
       "     gpkit.PosynomialInequality(\\sigma_{vm, burst}_TankSystem/MainTank/GeneralTank <= \\sigma_{u, al}_TankSystem/MainTank),\n",
       "     gpkit.PosynomialInequality(m_TankSystem/MainTank/GeneralTank >= 6.28*\\rho_{Al}_TankSystem/MainTank*l_TankSystem/MainTank/GeneralTank*r_TankSystem/MainTank/GeneralTank*t_TankSystem/MainTank/GeneralTank + 6.28*\\rho_{Al}_TankSystem/MainTank*r_TankSystem/MainTank/GeneralTank**2*t_TankSystem/MainTank/GeneralTank)],\n",
       "    gpkit.PosynomialInequality(V_TankSystem/MainTank/Water <= 3.14*l_TankSystem/MainTank/GeneralTank*r_TankSystem/MainTank/GeneralTank**2),\n",
       "    gpkit.PosynomialInequality(m_TankSystem/MainTank >= m_TankSystem/MainTank/GeneralTank + m_TankSystem/MainTank/Water)],\n",
       "   [gpkit.PosynomialInequality(T_TankSystem/HeliumTank >= 100),\n",
       "    gpkit.PosynomialInequality(T_TankSystem/HeliumTank <= 400),\n",
       "    gpkit.PosynomialInequality(m_TankSystem/HeliumTank >= m_TankSystem/HeliumTank/GeneralTank + m_{He}_TankSystem/HeliumTank),\n",
       "    [gpkit.PosynomialInequality(r_TankSystem/HeliumTank/GeneralTank <= 5),\n",
       "     gpkit.PosynomialInequality(l_TankSystem/HeliumTank/GeneralTank <= 10),\n",
       "     gpkit.PosynomialInequality(r_TankSystem/HeliumTank/GeneralTank >= 10*t_TankSystem/HeliumTank/GeneralTank),\n",
       "     gpkit.PosynomialInequality(P_{burst}_TankSystem/HeliumTank/GeneralTank >= FOSU_TankSystem/HeliumTank/GeneralTank*P_{He, initial}_TankSystem/HeliumTank*j_{burst}_TankSystem/HeliumTank/GeneralTank + P_{He, initial}_TankSystem/HeliumTank*j_{burst}_TankSystem/HeliumTank/GeneralTank),\n",
       "     gpkit.PosynomialInequality(P_{proof}_TankSystem/HeliumTank/GeneralTank >= FOSY_TankSystem/HeliumTank/GeneralTank*P_{He, initial}_TankSystem/HeliumTank*j_{proof}_TankSystem/HeliumTank/GeneralTank + P_{He, initial}_TankSystem/HeliumTank*j_{proof}_TankSystem/HeliumTank/GeneralTank),\n",
       "     gpkit.MonomialEquality(\\sigma_{vm, proof}_TankSystem/HeliumTank/GeneralTank = 0.866*P_{proof}_TankSystem/HeliumTank/GeneralTank*r_TankSystem/HeliumTank/GeneralTank*t_TankSystem/HeliumTank/GeneralTank**-1),\n",
       "     gpkit.MonomialEquality(\\sigma_{vm, burst}_TankSystem/HeliumTank/GeneralTank = 0.866*P_{burst}_TankSystem/HeliumTank/GeneralTank*r_TankSystem/HeliumTank/GeneralTank*t_TankSystem/HeliumTank/GeneralTank**-1),\n",
       "     gpkit.PosynomialInequality(\\sigma_{vm, proof}_TankSystem/HeliumTank/GeneralTank <= \\sigma_{y, al}_TankSystem/HeliumTank),\n",
       "     gpkit.PosynomialInequality(\\sigma_{vm, burst}_TankSystem/HeliumTank/GeneralTank <= \\sigma_{u, al}_TankSystem/HeliumTank),\n",
       "     gpkit.PosynomialInequality(m_TankSystem/HeliumTank/GeneralTank >= 6.28*\\rho_{Al}_TankSystem/HeliumTank*l_TankSystem/HeliumTank/GeneralTank*r_TankSystem/HeliumTank/GeneralTank*t_TankSystem/HeliumTank/GeneralTank + 6.28*\\rho_{Al}_TankSystem/HeliumTank*r_TankSystem/HeliumTank/GeneralTank**2*t_TankSystem/HeliumTank/GeneralTank)],\n",
       "    [gpkit.MonomialEquality(3.14*P_{He, initial}_TankSystem/HeliumTank*l_TankSystem/HeliumTank/GeneralTank*r_TankSystem/HeliumTank/GeneralTank**2 = 2.08*T_TankSystem/HeliumTank*m_{He}_TankSystem/HeliumTank)]]],\n",
       "  [gpkit.MonomialEquality(3.14*P_{expected}_TankSystem/MainTank*l_TankSystem/MainTank/GeneralTank*r_TankSystem/MainTank/GeneralTank**2 = 2.08*T_TankSystem/MainTank*m_{He}_TankSystem/HeliumTank)],\n",
       "  gpkit.PosynomialInequality(m_TankSystem >= m_TankSystem/HeliumTank + m_TankSystem/MainTank)]]"
      ]
     },
     "execution_count": 8,
     "metadata": {},
     "output_type": "execute_result"
    }
   ],
   "source": [
    "problem = Model(ts.m, ts)\n",
    "problem"
   ]
  },
  {
   "cell_type": "code",
   "execution_count": 9,
   "metadata": {},
   "outputs": [
    {
     "data": {
      "text/latex": [
       "$$\\begin{array}{ll} \\text{}\n",
       "\\text{minimize}\n",
       "    & 1 \\\\\n",
       "\\text{subject to}\n",
       "    & MainTank_{0} \\\\\n",
       "    & HeliumTank_{0} \\\\\n",
       "    & Helium_{0} \\\\\n",
       "    & {m}_{TankSystem} \\geq {m}_{TankSystem/HeliumTank} + {m}_{TankSystem/MainTank} \\\\\n",
       "\\end{array}$$"
      ],
      "text/plain": [
       "[[[[gpkit.MonomialEquality(m_TankSystem/MainTank/Water = V_TankSystem/MainTank/Water*\\rho_TankSystem/MainTank/Water),\n",
       "    gpkit.PosynomialInequality(V_TankSystem/MainTank/Water >= 0.35)],\n",
       "   [gpkit.PosynomialInequality(r_TankSystem/MainTank/GeneralTank <= 5),\n",
       "    gpkit.PosynomialInequality(l_TankSystem/MainTank/GeneralTank <= 10),\n",
       "    gpkit.PosynomialInequality(r_TankSystem/MainTank/GeneralTank >= 10*t_TankSystem/MainTank/GeneralTank),\n",
       "    gpkit.PosynomialInequality(P_{burst}_TankSystem/MainTank/GeneralTank >= FOSU_TankSystem/MainTank/GeneralTank*P_{expected}_TankSystem/MainTank*j_{burst}_TankSystem/MainTank/GeneralTank + P_{expected}_TankSystem/MainTank*j_{burst}_TankSystem/MainTank/GeneralTank),\n",
       "    gpkit.PosynomialInequality(P_{proof}_TankSystem/MainTank/GeneralTank >= FOSY_TankSystem/MainTank/GeneralTank*P_{expected}_TankSystem/MainTank*j_{proof}_TankSystem/MainTank/GeneralTank + P_{expected}_TankSystem/MainTank*j_{proof}_TankSystem/MainTank/GeneralTank),\n",
       "    gpkit.MonomialEquality(\\sigma_{vm, proof}_TankSystem/MainTank/GeneralTank = 0.866*P_{proof}_TankSystem/MainTank/GeneralTank*r_TankSystem/MainTank/GeneralTank*t_TankSystem/MainTank/GeneralTank**-1),\n",
       "    gpkit.MonomialEquality(\\sigma_{vm, burst}_TankSystem/MainTank/GeneralTank = 0.866*P_{burst}_TankSystem/MainTank/GeneralTank*r_TankSystem/MainTank/GeneralTank*t_TankSystem/MainTank/GeneralTank**-1),\n",
       "    gpkit.PosynomialInequality(\\sigma_{vm, proof}_TankSystem/MainTank/GeneralTank <= \\sigma_{y, al}_TankSystem/MainTank),\n",
       "    gpkit.PosynomialInequality(\\sigma_{vm, burst}_TankSystem/MainTank/GeneralTank <= \\sigma_{u, al}_TankSystem/MainTank),\n",
       "    gpkit.PosynomialInequality(m_TankSystem/MainTank/GeneralTank >= 6.28*\\rho_{Al}_TankSystem/MainTank*l_TankSystem/MainTank/GeneralTank*r_TankSystem/MainTank/GeneralTank*t_TankSystem/MainTank/GeneralTank + 6.28*\\rho_{Al}_TankSystem/MainTank*r_TankSystem/MainTank/GeneralTank**2*t_TankSystem/MainTank/GeneralTank)],\n",
       "   gpkit.PosynomialInequality(V_TankSystem/MainTank/Water <= 3.14*l_TankSystem/MainTank/GeneralTank*r_TankSystem/MainTank/GeneralTank**2),\n",
       "   gpkit.PosynomialInequality(m_TankSystem/MainTank >= m_TankSystem/MainTank/GeneralTank + m_TankSystem/MainTank/Water)],\n",
       "  [gpkit.PosynomialInequality(T_TankSystem/HeliumTank >= 100),\n",
       "   gpkit.PosynomialInequality(T_TankSystem/HeliumTank <= 400),\n",
       "   gpkit.PosynomialInequality(m_TankSystem/HeliumTank >= m_TankSystem/HeliumTank/GeneralTank + m_{He}_TankSystem/HeliumTank),\n",
       "   [gpkit.PosynomialInequality(r_TankSystem/HeliumTank/GeneralTank <= 5),\n",
       "    gpkit.PosynomialInequality(l_TankSystem/HeliumTank/GeneralTank <= 10),\n",
       "    gpkit.PosynomialInequality(r_TankSystem/HeliumTank/GeneralTank >= 10*t_TankSystem/HeliumTank/GeneralTank),\n",
       "    gpkit.PosynomialInequality(P_{burst}_TankSystem/HeliumTank/GeneralTank >= FOSU_TankSystem/HeliumTank/GeneralTank*P_{He, initial}_TankSystem/HeliumTank*j_{burst}_TankSystem/HeliumTank/GeneralTank + P_{He, initial}_TankSystem/HeliumTank*j_{burst}_TankSystem/HeliumTank/GeneralTank),\n",
       "    gpkit.PosynomialInequality(P_{proof}_TankSystem/HeliumTank/GeneralTank >= FOSY_TankSystem/HeliumTank/GeneralTank*P_{He, initial}_TankSystem/HeliumTank*j_{proof}_TankSystem/HeliumTank/GeneralTank + P_{He, initial}_TankSystem/HeliumTank*j_{proof}_TankSystem/HeliumTank/GeneralTank),\n",
       "    gpkit.MonomialEquality(\\sigma_{vm, proof}_TankSystem/HeliumTank/GeneralTank = 0.866*P_{proof}_TankSystem/HeliumTank/GeneralTank*r_TankSystem/HeliumTank/GeneralTank*t_TankSystem/HeliumTank/GeneralTank**-1),\n",
       "    gpkit.MonomialEquality(\\sigma_{vm, burst}_TankSystem/HeliumTank/GeneralTank = 0.866*P_{burst}_TankSystem/HeliumTank/GeneralTank*r_TankSystem/HeliumTank/GeneralTank*t_TankSystem/HeliumTank/GeneralTank**-1),\n",
       "    gpkit.PosynomialInequality(\\sigma_{vm, proof}_TankSystem/HeliumTank/GeneralTank <= \\sigma_{y, al}_TankSystem/HeliumTank),\n",
       "    gpkit.PosynomialInequality(\\sigma_{vm, burst}_TankSystem/HeliumTank/GeneralTank <= \\sigma_{u, al}_TankSystem/HeliumTank),\n",
       "    gpkit.PosynomialInequality(m_TankSystem/HeliumTank/GeneralTank >= 6.28*\\rho_{Al}_TankSystem/HeliumTank*l_TankSystem/HeliumTank/GeneralTank*r_TankSystem/HeliumTank/GeneralTank*t_TankSystem/HeliumTank/GeneralTank + 6.28*\\rho_{Al}_TankSystem/HeliumTank*r_TankSystem/HeliumTank/GeneralTank**2*t_TankSystem/HeliumTank/GeneralTank)],\n",
       "   [gpkit.MonomialEquality(3.14*P_{He, initial}_TankSystem/HeliumTank*l_TankSystem/HeliumTank/GeneralTank*r_TankSystem/HeliumTank/GeneralTank**2 = 2.08*T_TankSystem/HeliumTank*m_{He}_TankSystem/HeliumTank)]]],\n",
       " [gpkit.MonomialEquality(3.14*P_{expected}_TankSystem/MainTank*l_TankSystem/MainTank/GeneralTank*r_TankSystem/MainTank/GeneralTank**2 = 2.08*T_TankSystem/MainTank*m_{He}_TankSystem/HeliumTank)],\n",
       " gpkit.PosynomialInequality(m_TankSystem >= m_TankSystem/HeliumTank + m_TankSystem/MainTank)]"
      ]
     },
     "execution_count": 9,
     "metadata": {},
     "output_type": "execute_result"
    }
   ],
   "source": [
    "ts"
   ]
  },
  {
   "cell_type": "code",
   "execution_count": 10,
   "metadata": {},
   "outputs": [
    {
     "data": {
      "text/latex": [
       "$$\\begin{array}{ll} \\text{}\n",
       "\\text{minimize}\n",
       "    & 1 \\\\\n",
       "\\text{subject to}\n",
       "    & Water_{0} \\\\\n",
       "    & GeneralTank_{0} \\\\\n",
       "    & {V}_{TankSystem/MainTank/Water} \\leq 3.142{l}_{TankSystem/MainTank/GeneralTank} {r}_{TankSystem/MainTank/GeneralTank}^{2} \\\\\n",
       "    & {m}_{TankSystem/MainTank} \\geq {m}_{TankSystem/MainTank/GeneralTank} + {m}_{TankSystem/MainTank/Water} \\\\\n",
       "\\end{array}$$"
      ],
      "text/plain": [
       "[[gpkit.MonomialEquality(m_TankSystem/MainTank/Water = V_TankSystem/MainTank/Water*\\rho_TankSystem/MainTank/Water),\n",
       "  gpkit.PosynomialInequality(V_TankSystem/MainTank/Water >= 0.35)],\n",
       " [gpkit.PosynomialInequality(r_TankSystem/MainTank/GeneralTank <= 5),\n",
       "  gpkit.PosynomialInequality(l_TankSystem/MainTank/GeneralTank <= 10),\n",
       "  gpkit.PosynomialInequality(r_TankSystem/MainTank/GeneralTank >= 10*t_TankSystem/MainTank/GeneralTank),\n",
       "  gpkit.PosynomialInequality(P_{burst}_TankSystem/MainTank/GeneralTank >= FOSU_TankSystem/MainTank/GeneralTank*P_{expected}_TankSystem/MainTank*j_{burst}_TankSystem/MainTank/GeneralTank + P_{expected}_TankSystem/MainTank*j_{burst}_TankSystem/MainTank/GeneralTank),\n",
       "  gpkit.PosynomialInequality(P_{proof}_TankSystem/MainTank/GeneralTank >= FOSY_TankSystem/MainTank/GeneralTank*P_{expected}_TankSystem/MainTank*j_{proof}_TankSystem/MainTank/GeneralTank + P_{expected}_TankSystem/MainTank*j_{proof}_TankSystem/MainTank/GeneralTank),\n",
       "  gpkit.MonomialEquality(\\sigma_{vm, proof}_TankSystem/MainTank/GeneralTank = 0.866*P_{proof}_TankSystem/MainTank/GeneralTank*r_TankSystem/MainTank/GeneralTank*t_TankSystem/MainTank/GeneralTank**-1),\n",
       "  gpkit.MonomialEquality(\\sigma_{vm, burst}_TankSystem/MainTank/GeneralTank = 0.866*P_{burst}_TankSystem/MainTank/GeneralTank*r_TankSystem/MainTank/GeneralTank*t_TankSystem/MainTank/GeneralTank**-1),\n",
       "  gpkit.PosynomialInequality(\\sigma_{vm, proof}_TankSystem/MainTank/GeneralTank <= \\sigma_{y, al}_TankSystem/MainTank),\n",
       "  gpkit.PosynomialInequality(\\sigma_{vm, burst}_TankSystem/MainTank/GeneralTank <= \\sigma_{u, al}_TankSystem/MainTank),\n",
       "  gpkit.PosynomialInequality(m_TankSystem/MainTank/GeneralTank >= 6.28*\\rho_{Al}_TankSystem/MainTank*l_TankSystem/MainTank/GeneralTank*r_TankSystem/MainTank/GeneralTank*t_TankSystem/MainTank/GeneralTank + 6.28*\\rho_{Al}_TankSystem/MainTank*r_TankSystem/MainTank/GeneralTank**2*t_TankSystem/MainTank/GeneralTank)],\n",
       " gpkit.PosynomialInequality(V_TankSystem/MainTank/Water <= 3.14*l_TankSystem/MainTank/GeneralTank*r_TankSystem/MainTank/GeneralTank**2),\n",
       " gpkit.PosynomialInequality(m_TankSystem/MainTank >= m_TankSystem/MainTank/GeneralTank + m_TankSystem/MainTank/Water)]"
      ]
     },
     "execution_count": 10,
     "metadata": {},
     "output_type": "execute_result"
    }
   ],
   "source": [
    "ts.components[0]"
   ]
  },
  {
   "cell_type": "code",
   "execution_count": 11,
   "metadata": {},
   "outputs": [
    {
     "data": {
      "text/latex": [
       "$$\\begin{array}{ll} \\text{}\n",
       "\\text{minimize}\n",
       "    & 1 \\\\\n",
       "\\text{subject to}\n",
       "    & {r}_{TankSystem/MainTank/GeneralTank} \\leq 5 \\\\\n",
       "    & {l}_{TankSystem/MainTank/GeneralTank} \\leq 10 \\\\\n",
       "    & {r}_{TankSystem/MainTank/GeneralTank} \\geq 10{t}_{TankSystem/MainTank/GeneralTank} \\\\\n",
       "    & {P_{burst}}_{TankSystem/MainTank/GeneralTank} \\geq {FOSU}_{TankSystem/MainTank/GeneralTank} {P_{expected}}_{TankSystem/MainTank} {j_{burst}}_{TankSystem/MainTank/GeneralTank} + {P_{expected}}_{TankSystem/MainTank} {j_{burst}}_{TankSystem/MainTank/GeneralTank} \\\\\n",
       "    & {P_{proof}}_{TankSystem/MainTank/GeneralTank} \\geq {FOSY}_{TankSystem/MainTank/GeneralTank} {P_{expected}}_{TankSystem/MainTank} {j_{proof}}_{TankSystem/MainTank/GeneralTank} + {P_{expected}}_{TankSystem/MainTank} {j_{proof}}_{TankSystem/MainTank/GeneralTank} \\\\\n",
       "    & {\\sigma_{vm, proof}}_{TankSystem/MainTank/GeneralTank} = 0.866\\frac{{P_{proof}}_{TankSystem/MainTank/GeneralTank} {r}_{TankSystem/MainTank/GeneralTank}}{{t}_{TankSystem/MainTank/GeneralTank}} \\\\\n",
       "    & {\\sigma_{vm, burst}}_{TankSystem/MainTank/GeneralTank} = 0.866\\frac{{P_{burst}}_{TankSystem/MainTank/GeneralTank} {r}_{TankSystem/MainTank/GeneralTank}}{{t}_{TankSystem/MainTank/GeneralTank}} \\\\\n",
       "    & {\\sigma_{vm, proof}}_{TankSystem/MainTank/GeneralTank} \\leq {\\sigma_{y, al}}_{TankSystem/MainTank} \\\\\n",
       "    & {\\sigma_{vm, burst}}_{TankSystem/MainTank/GeneralTank} \\leq {\\sigma_{u, al}}_{TankSystem/MainTank} \\\\\n",
       "    & {m}_{TankSystem/MainTank/GeneralTank} \\geq 6.283{\\rho_{Al}}_{TankSystem/MainTank} {l}_{TankSystem/MainTank/GeneralTank} {r}_{TankSystem/MainTank/GeneralTank} {t}_{TankSystem/MainTank/GeneralTank} + 6.283{\\rho_{Al}}_{TankSystem/MainTank} {r}_{TankSystem/MainTank/GeneralTank}^{2} {t}_{TankSystem/MainTank/GeneralTank} \\\\\n",
       "\\end{array}$$"
      ],
      "text/plain": [
       "[gpkit.PosynomialInequality(r_TankSystem/MainTank/GeneralTank <= 5),\n",
       " gpkit.PosynomialInequality(l_TankSystem/MainTank/GeneralTank <= 10),\n",
       " gpkit.PosynomialInequality(r_TankSystem/MainTank/GeneralTank >= 10*t_TankSystem/MainTank/GeneralTank),\n",
       " gpkit.PosynomialInequality(P_{burst}_TankSystem/MainTank/GeneralTank >= FOSU_TankSystem/MainTank/GeneralTank*P_{expected}_TankSystem/MainTank*j_{burst}_TankSystem/MainTank/GeneralTank + P_{expected}_TankSystem/MainTank*j_{burst}_TankSystem/MainTank/GeneralTank),\n",
       " gpkit.PosynomialInequality(P_{proof}_TankSystem/MainTank/GeneralTank >= FOSY_TankSystem/MainTank/GeneralTank*P_{expected}_TankSystem/MainTank*j_{proof}_TankSystem/MainTank/GeneralTank + P_{expected}_TankSystem/MainTank*j_{proof}_TankSystem/MainTank/GeneralTank),\n",
       " gpkit.MonomialEquality(\\sigma_{vm, proof}_TankSystem/MainTank/GeneralTank = 0.866*P_{proof}_TankSystem/MainTank/GeneralTank*r_TankSystem/MainTank/GeneralTank*t_TankSystem/MainTank/GeneralTank**-1),\n",
       " gpkit.MonomialEquality(\\sigma_{vm, burst}_TankSystem/MainTank/GeneralTank = 0.866*P_{burst}_TankSystem/MainTank/GeneralTank*r_TankSystem/MainTank/GeneralTank*t_TankSystem/MainTank/GeneralTank**-1),\n",
       " gpkit.PosynomialInequality(\\sigma_{vm, proof}_TankSystem/MainTank/GeneralTank <= \\sigma_{y, al}_TankSystem/MainTank),\n",
       " gpkit.PosynomialInequality(\\sigma_{vm, burst}_TankSystem/MainTank/GeneralTank <= \\sigma_{u, al}_TankSystem/MainTank),\n",
       " gpkit.PosynomialInequality(m_TankSystem/MainTank/GeneralTank >= 6.28*\\rho_{Al}_TankSystem/MainTank*l_TankSystem/MainTank/GeneralTank*r_TankSystem/MainTank/GeneralTank*t_TankSystem/MainTank/GeneralTank + 6.28*\\rho_{Al}_TankSystem/MainTank*r_TankSystem/MainTank/GeneralTank**2*t_TankSystem/MainTank/GeneralTank)]"
      ]
     },
     "execution_count": 11,
     "metadata": {},
     "output_type": "execute_result"
    }
   ],
   "source": [
    "ts.components[0].components[1]"
   ]
  },
  {
   "cell_type": "code",
   "execution_count": 12,
   "metadata": {},
   "outputs": [
    {
     "data": {
      "text/latex": [
       "$$\\begin{array}{ll} \\text{}\n",
       "\\text{minimize}\n",
       "    & 1 \\\\\n",
       "\\text{subject to}\n",
       "    & {T}_{TankSystem/HeliumTank} \\geq 100 \\\\\n",
       "    & {T}_{TankSystem/HeliumTank} \\leq 400 \\\\\n",
       "    & {m}_{TankSystem/HeliumTank} \\geq {m_{He}}_{TankSystem/HeliumTank} + {m}_{TankSystem/HeliumTank/GeneralTank} \\\\\n",
       "    & GeneralTank_{0} \\\\\n",
       "    & Helium_{0} \\\\\n",
       "\\end{array}$$"
      ],
      "text/plain": [
       "[gpkit.PosynomialInequality(T_TankSystem/HeliumTank >= 100),\n",
       " gpkit.PosynomialInequality(T_TankSystem/HeliumTank <= 400),\n",
       " gpkit.PosynomialInequality(m_TankSystem/HeliumTank >= m_TankSystem/HeliumTank/GeneralTank + m_{He}_TankSystem/HeliumTank),\n",
       " [gpkit.PosynomialInequality(r_TankSystem/HeliumTank/GeneralTank <= 5),\n",
       "  gpkit.PosynomialInequality(l_TankSystem/HeliumTank/GeneralTank <= 10),\n",
       "  gpkit.PosynomialInequality(r_TankSystem/HeliumTank/GeneralTank >= 10*t_TankSystem/HeliumTank/GeneralTank),\n",
       "  gpkit.PosynomialInequality(P_{burst}_TankSystem/HeliumTank/GeneralTank >= FOSU_TankSystem/HeliumTank/GeneralTank*P_{He, initial}_TankSystem/HeliumTank*j_{burst}_TankSystem/HeliumTank/GeneralTank + P_{He, initial}_TankSystem/HeliumTank*j_{burst}_TankSystem/HeliumTank/GeneralTank),\n",
       "  gpkit.PosynomialInequality(P_{proof}_TankSystem/HeliumTank/GeneralTank >= FOSY_TankSystem/HeliumTank/GeneralTank*P_{He, initial}_TankSystem/HeliumTank*j_{proof}_TankSystem/HeliumTank/GeneralTank + P_{He, initial}_TankSystem/HeliumTank*j_{proof}_TankSystem/HeliumTank/GeneralTank),\n",
       "  gpkit.MonomialEquality(\\sigma_{vm, proof}_TankSystem/HeliumTank/GeneralTank = 0.866*P_{proof}_TankSystem/HeliumTank/GeneralTank*r_TankSystem/HeliumTank/GeneralTank*t_TankSystem/HeliumTank/GeneralTank**-1),\n",
       "  gpkit.MonomialEquality(\\sigma_{vm, burst}_TankSystem/HeliumTank/GeneralTank = 0.866*P_{burst}_TankSystem/HeliumTank/GeneralTank*r_TankSystem/HeliumTank/GeneralTank*t_TankSystem/HeliumTank/GeneralTank**-1),\n",
       "  gpkit.PosynomialInequality(\\sigma_{vm, proof}_TankSystem/HeliumTank/GeneralTank <= \\sigma_{y, al}_TankSystem/HeliumTank),\n",
       "  gpkit.PosynomialInequality(\\sigma_{vm, burst}_TankSystem/HeliumTank/GeneralTank <= \\sigma_{u, al}_TankSystem/HeliumTank),\n",
       "  gpkit.PosynomialInequality(m_TankSystem/HeliumTank/GeneralTank >= 6.28*\\rho_{Al}_TankSystem/HeliumTank*l_TankSystem/HeliumTank/GeneralTank*r_TankSystem/HeliumTank/GeneralTank*t_TankSystem/HeliumTank/GeneralTank + 6.28*\\rho_{Al}_TankSystem/HeliumTank*r_TankSystem/HeliumTank/GeneralTank**2*t_TankSystem/HeliumTank/GeneralTank)],\n",
       " [gpkit.MonomialEquality(3.14*P_{He, initial}_TankSystem/HeliumTank*l_TankSystem/HeliumTank/GeneralTank*r_TankSystem/HeliumTank/GeneralTank**2 = 2.08*T_TankSystem/HeliumTank*m_{He}_TankSystem/HeliumTank)]]"
      ]
     },
     "execution_count": 12,
     "metadata": {},
     "output_type": "execute_result"
    }
   ],
   "source": [
    "ts.components[1]"
   ]
  },
  {
   "cell_type": "code",
   "execution_count": 13,
   "metadata": {},
   "outputs": [
    {
     "data": {
      "text/latex": [
       "$$\\begin{array}{ll} \\text{}\n",
       "\\text{minimize}\n",
       "    & 1 \\\\\n",
       "\\text{subject to}\n",
       "    & {m}_{TankSystem/MainTank/Water} = {V}_{TankSystem/MainTank/Water} {\\rho}_{TankSystem/MainTank/Water} \\\\\n",
       "    & {V}_{TankSystem/MainTank/Water} \\geq 0.35 \\\\\n",
       "\\end{array}$$"
      ],
      "text/plain": [
       "[gpkit.MonomialEquality(m_TankSystem/MainTank/Water = V_TankSystem/MainTank/Water*\\rho_TankSystem/MainTank/Water),\n",
       " gpkit.PosynomialInequality(V_TankSystem/MainTank/Water >= 0.35)]"
      ]
     },
     "execution_count": 13,
     "metadata": {},
     "output_type": "execute_result"
    }
   ],
   "source": [
    "ts.components[0].components[0]"
   ]
  },
  {
   "cell_type": "code",
   "execution_count": 14,
   "metadata": {},
   "outputs": [
    {
     "data": {
      "text/latex": [
       "$$\\begin{array}{ll} \\text{}\n",
       "\\text{minimize}\n",
       "    & 1 \\\\\n",
       "\\text{subject to}\n",
       "    & {r}_{TankSystem/MainTank/GeneralTank} \\leq 5 \\\\\n",
       "    & {l}_{TankSystem/MainTank/GeneralTank} \\leq 10 \\\\\n",
       "    & {r}_{TankSystem/MainTank/GeneralTank} \\geq 10{t}_{TankSystem/MainTank/GeneralTank} \\\\\n",
       "    & {P_{burst}}_{TankSystem/MainTank/GeneralTank} \\geq {FOSU}_{TankSystem/MainTank/GeneralTank} {P_{expected}}_{TankSystem/MainTank} {j_{burst}}_{TankSystem/MainTank/GeneralTank} + {P_{expected}}_{TankSystem/MainTank} {j_{burst}}_{TankSystem/MainTank/GeneralTank} \\\\\n",
       "    & {P_{proof}}_{TankSystem/MainTank/GeneralTank} \\geq {FOSY}_{TankSystem/MainTank/GeneralTank} {P_{expected}}_{TankSystem/MainTank} {j_{proof}}_{TankSystem/MainTank/GeneralTank} + {P_{expected}}_{TankSystem/MainTank} {j_{proof}}_{TankSystem/MainTank/GeneralTank} \\\\\n",
       "    & {\\sigma_{vm, proof}}_{TankSystem/MainTank/GeneralTank} = 0.866\\frac{{P_{proof}}_{TankSystem/MainTank/GeneralTank} {r}_{TankSystem/MainTank/GeneralTank}}{{t}_{TankSystem/MainTank/GeneralTank}} \\\\\n",
       "    & {\\sigma_{vm, burst}}_{TankSystem/MainTank/GeneralTank} = 0.866\\frac{{P_{burst}}_{TankSystem/MainTank/GeneralTank} {r}_{TankSystem/MainTank/GeneralTank}}{{t}_{TankSystem/MainTank/GeneralTank}} \\\\\n",
       "    & {\\sigma_{vm, proof}}_{TankSystem/MainTank/GeneralTank} \\leq {\\sigma_{y, al}}_{TankSystem/MainTank} \\\\\n",
       "    & {\\sigma_{vm, burst}}_{TankSystem/MainTank/GeneralTank} \\leq {\\sigma_{u, al}}_{TankSystem/MainTank} \\\\\n",
       "    & {m}_{TankSystem/MainTank/GeneralTank} \\geq 6.283{\\rho_{Al}}_{TankSystem/MainTank} {l}_{TankSystem/MainTank/GeneralTank} {r}_{TankSystem/MainTank/GeneralTank} {t}_{TankSystem/MainTank/GeneralTank} + 6.283{\\rho_{Al}}_{TankSystem/MainTank} {r}_{TankSystem/MainTank/GeneralTank}^{2} {t}_{TankSystem/MainTank/GeneralTank} \\\\\n",
       "\\end{array}$$"
      ],
      "text/plain": [
       "[gpkit.PosynomialInequality(r_TankSystem/MainTank/GeneralTank <= 5),\n",
       " gpkit.PosynomialInequality(l_TankSystem/MainTank/GeneralTank <= 10),\n",
       " gpkit.PosynomialInequality(r_TankSystem/MainTank/GeneralTank >= 10*t_TankSystem/MainTank/GeneralTank),\n",
       " gpkit.PosynomialInequality(P_{burst}_TankSystem/MainTank/GeneralTank >= FOSU_TankSystem/MainTank/GeneralTank*P_{expected}_TankSystem/MainTank*j_{burst}_TankSystem/MainTank/GeneralTank + P_{expected}_TankSystem/MainTank*j_{burst}_TankSystem/MainTank/GeneralTank),\n",
       " gpkit.PosynomialInequality(P_{proof}_TankSystem/MainTank/GeneralTank >= FOSY_TankSystem/MainTank/GeneralTank*P_{expected}_TankSystem/MainTank*j_{proof}_TankSystem/MainTank/GeneralTank + P_{expected}_TankSystem/MainTank*j_{proof}_TankSystem/MainTank/GeneralTank),\n",
       " gpkit.MonomialEquality(\\sigma_{vm, proof}_TankSystem/MainTank/GeneralTank = 0.866*P_{proof}_TankSystem/MainTank/GeneralTank*r_TankSystem/MainTank/GeneralTank*t_TankSystem/MainTank/GeneralTank**-1),\n",
       " gpkit.MonomialEquality(\\sigma_{vm, burst}_TankSystem/MainTank/GeneralTank = 0.866*P_{burst}_TankSystem/MainTank/GeneralTank*r_TankSystem/MainTank/GeneralTank*t_TankSystem/MainTank/GeneralTank**-1),\n",
       " gpkit.PosynomialInequality(\\sigma_{vm, proof}_TankSystem/MainTank/GeneralTank <= \\sigma_{y, al}_TankSystem/MainTank),\n",
       " gpkit.PosynomialInequality(\\sigma_{vm, burst}_TankSystem/MainTank/GeneralTank <= \\sigma_{u, al}_TankSystem/MainTank),\n",
       " gpkit.PosynomialInequality(m_TankSystem/MainTank/GeneralTank >= 6.28*\\rho_{Al}_TankSystem/MainTank*l_TankSystem/MainTank/GeneralTank*r_TankSystem/MainTank/GeneralTank*t_TankSystem/MainTank/GeneralTank + 6.28*\\rho_{Al}_TankSystem/MainTank*r_TankSystem/MainTank/GeneralTank**2*t_TankSystem/MainTank/GeneralTank)]"
      ]
     },
     "execution_count": 14,
     "metadata": {},
     "output_type": "execute_result"
    }
   ],
   "source": [
    "ts.components[0].components[1]"
   ]
  },
  {
   "cell_type": "code",
   "execution_count": 15,
   "metadata": {},
   "outputs": [
    {
     "data": {
      "text/latex": [
       "$$\\begin{array}{ll} \\text{}\n",
       "\\text{minimize}\n",
       "    & 1 \\\\\n",
       "\\text{subject to}\n",
       "    & {r}_{TankSystem/HeliumTank/GeneralTank} \\leq 5 \\\\\n",
       "    & {l}_{TankSystem/HeliumTank/GeneralTank} \\leq 10 \\\\\n",
       "    & {r}_{TankSystem/HeliumTank/GeneralTank} \\geq 10{t}_{TankSystem/HeliumTank/GeneralTank} \\\\\n",
       "    & {P_{burst}}_{TankSystem/HeliumTank/GeneralTank} \\geq {FOSU}_{TankSystem/HeliumTank/GeneralTank} {P_{He, initial}}_{TankSystem/HeliumTank} {j_{burst}}_{TankSystem/HeliumTank/GeneralTank} + {P_{He, initial}}_{TankSystem/HeliumTank} {j_{burst}}_{TankSystem/HeliumTank/GeneralTank} \\\\\n",
       "    & {P_{proof}}_{TankSystem/HeliumTank/GeneralTank} \\geq {FOSY}_{TankSystem/HeliumTank/GeneralTank} {P_{He, initial}}_{TankSystem/HeliumTank} {j_{proof}}_{TankSystem/HeliumTank/GeneralTank} + {P_{He, initial}}_{TankSystem/HeliumTank} {j_{proof}}_{TankSystem/HeliumTank/GeneralTank} \\\\\n",
       "    & {\\sigma_{vm, proof}}_{TankSystem/HeliumTank/GeneralTank} = 0.866\\frac{{P_{proof}}_{TankSystem/HeliumTank/GeneralTank} {r}_{TankSystem/HeliumTank/GeneralTank}}{{t}_{TankSystem/HeliumTank/GeneralTank}} \\\\\n",
       "    & {\\sigma_{vm, burst}}_{TankSystem/HeliumTank/GeneralTank} = 0.866\\frac{{P_{burst}}_{TankSystem/HeliumTank/GeneralTank} {r}_{TankSystem/HeliumTank/GeneralTank}}{{t}_{TankSystem/HeliumTank/GeneralTank}} \\\\\n",
       "    & {\\sigma_{vm, proof}}_{TankSystem/HeliumTank/GeneralTank} \\leq {\\sigma_{y, al}}_{TankSystem/HeliumTank} \\\\\n",
       "    & {\\sigma_{vm, burst}}_{TankSystem/HeliumTank/GeneralTank} \\leq {\\sigma_{u, al}}_{TankSystem/HeliumTank} \\\\\n",
       "    & {m}_{TankSystem/HeliumTank/GeneralTank} \\geq 6.283{\\rho_{Al}}_{TankSystem/HeliumTank} {l}_{TankSystem/HeliumTank/GeneralTank} {r}_{TankSystem/HeliumTank/GeneralTank} {t}_{TankSystem/HeliumTank/GeneralTank} + 6.283{\\rho_{Al}}_{TankSystem/HeliumTank} {r}_{TankSystem/HeliumTank/GeneralTank}^{2} {t}_{TankSystem/HeliumTank/GeneralTank} \\\\\n",
       "\\end{array}$$"
      ],
      "text/plain": [
       "[gpkit.PosynomialInequality(r_TankSystem/HeliumTank/GeneralTank <= 5),\n",
       " gpkit.PosynomialInequality(l_TankSystem/HeliumTank/GeneralTank <= 10),\n",
       " gpkit.PosynomialInequality(r_TankSystem/HeliumTank/GeneralTank >= 10*t_TankSystem/HeliumTank/GeneralTank),\n",
       " gpkit.PosynomialInequality(P_{burst}_TankSystem/HeliumTank/GeneralTank >= FOSU_TankSystem/HeliumTank/GeneralTank*P_{He, initial}_TankSystem/HeliumTank*j_{burst}_TankSystem/HeliumTank/GeneralTank + P_{He, initial}_TankSystem/HeliumTank*j_{burst}_TankSystem/HeliumTank/GeneralTank),\n",
       " gpkit.PosynomialInequality(P_{proof}_TankSystem/HeliumTank/GeneralTank >= FOSY_TankSystem/HeliumTank/GeneralTank*P_{He, initial}_TankSystem/HeliumTank*j_{proof}_TankSystem/HeliumTank/GeneralTank + P_{He, initial}_TankSystem/HeliumTank*j_{proof}_TankSystem/HeliumTank/GeneralTank),\n",
       " gpkit.MonomialEquality(\\sigma_{vm, proof}_TankSystem/HeliumTank/GeneralTank = 0.866*P_{proof}_TankSystem/HeliumTank/GeneralTank*r_TankSystem/HeliumTank/GeneralTank*t_TankSystem/HeliumTank/GeneralTank**-1),\n",
       " gpkit.MonomialEquality(\\sigma_{vm, burst}_TankSystem/HeliumTank/GeneralTank = 0.866*P_{burst}_TankSystem/HeliumTank/GeneralTank*r_TankSystem/HeliumTank/GeneralTank*t_TankSystem/HeliumTank/GeneralTank**-1),\n",
       " gpkit.PosynomialInequality(\\sigma_{vm, proof}_TankSystem/HeliumTank/GeneralTank <= \\sigma_{y, al}_TankSystem/HeliumTank),\n",
       " gpkit.PosynomialInequality(\\sigma_{vm, burst}_TankSystem/HeliumTank/GeneralTank <= \\sigma_{u, al}_TankSystem/HeliumTank),\n",
       " gpkit.PosynomialInequality(m_TankSystem/HeliumTank/GeneralTank >= 6.28*\\rho_{Al}_TankSystem/HeliumTank*l_TankSystem/HeliumTank/GeneralTank*r_TankSystem/HeliumTank/GeneralTank*t_TankSystem/HeliumTank/GeneralTank + 6.28*\\rho_{Al}_TankSystem/HeliumTank*r_TankSystem/HeliumTank/GeneralTank**2*t_TankSystem/HeliumTank/GeneralTank)]"
      ]
     },
     "execution_count": 15,
     "metadata": {},
     "output_type": "execute_result"
    }
   ],
   "source": [
    "ts.components[1].components[0]"
   ]
  },
  {
   "cell_type": "code",
   "execution_count": 16,
   "metadata": {},
   "outputs": [
    {
     "data": {
      "text/latex": [
       "$$\\begin{array}{ll} \\text{}\n",
       "\\text{minimize}\n",
       "    & 1 \\\\\n",
       "\\text{subject to}\n",
       "    & 3.142{P_{He, initial}}_{TankSystem/HeliumTank} {l}_{TankSystem/HeliumTank/GeneralTank} {r}_{TankSystem/HeliumTank/GeneralTank}^{2} = 2.077{T}_{TankSystem/HeliumTank} {m_{He}}_{TankSystem/HeliumTank} \\\\\n",
       "\\end{array}$$"
      ],
      "text/plain": [
       "[gpkit.MonomialEquality(3.14*P_{He, initial}_TankSystem/HeliumTank*l_TankSystem/HeliumTank/GeneralTank*r_TankSystem/HeliumTank/GeneralTank**2 = 2.08*T_TankSystem/HeliumTank*m_{He}_TankSystem/HeliumTank)]"
      ]
     },
     "execution_count": 16,
     "metadata": {},
     "output_type": "execute_result"
    }
   ],
   "source": [
    "ts.components[1].components[1]"
   ]
  },
  {
   "cell_type": "code",
   "execution_count": 17,
   "metadata": {},
   "outputs": [
    {
     "data": {
      "text/latex": [
       "$$\\begin{array}{ll} \\text{}\n",
       "\\text{minimize}\n",
       "    & {m}_{TankSystem} \\\\\n",
       "\\text{subject to}\n",
       "    & TankSystem_{0} \\\\\n",
       "\\end{array}$$"
      ],
      "text/plain": [
       "[[[[[gpkit.MonomialEquality(m_TankSystem/MainTank/Water = V_TankSystem/MainTank/Water*\\rho_TankSystem/MainTank/Water),\n",
       "     gpkit.PosynomialInequality(V_TankSystem/MainTank/Water >= 0.35)],\n",
       "    [gpkit.PosynomialInequality(r_TankSystem/MainTank/GeneralTank <= 5),\n",
       "     gpkit.PosynomialInequality(l_TankSystem/MainTank/GeneralTank <= 10),\n",
       "     gpkit.PosynomialInequality(r_TankSystem/MainTank/GeneralTank >= 10*t_TankSystem/MainTank/GeneralTank),\n",
       "     gpkit.PosynomialInequality(P_{burst}_TankSystem/MainTank/GeneralTank >= FOSU_TankSystem/MainTank/GeneralTank*P_{expected}_TankSystem/MainTank*j_{burst}_TankSystem/MainTank/GeneralTank + P_{expected}_TankSystem/MainTank*j_{burst}_TankSystem/MainTank/GeneralTank),\n",
       "     gpkit.PosynomialInequality(P_{proof}_TankSystem/MainTank/GeneralTank >= FOSY_TankSystem/MainTank/GeneralTank*P_{expected}_TankSystem/MainTank*j_{proof}_TankSystem/MainTank/GeneralTank + P_{expected}_TankSystem/MainTank*j_{proof}_TankSystem/MainTank/GeneralTank),\n",
       "     gpkit.MonomialEquality(\\sigma_{vm, proof}_TankSystem/MainTank/GeneralTank = 0.866*P_{proof}_TankSystem/MainTank/GeneralTank*r_TankSystem/MainTank/GeneralTank*t_TankSystem/MainTank/GeneralTank**-1),\n",
       "     gpkit.MonomialEquality(\\sigma_{vm, burst}_TankSystem/MainTank/GeneralTank = 0.866*P_{burst}_TankSystem/MainTank/GeneralTank*r_TankSystem/MainTank/GeneralTank*t_TankSystem/MainTank/GeneralTank**-1),\n",
       "     gpkit.PosynomialInequality(\\sigma_{vm, proof}_TankSystem/MainTank/GeneralTank <= \\sigma_{y, al}_TankSystem/MainTank),\n",
       "     gpkit.PosynomialInequality(\\sigma_{vm, burst}_TankSystem/MainTank/GeneralTank <= \\sigma_{u, al}_TankSystem/MainTank),\n",
       "     gpkit.PosynomialInequality(m_TankSystem/MainTank/GeneralTank >= 6.28*\\rho_{Al}_TankSystem/MainTank*l_TankSystem/MainTank/GeneralTank*r_TankSystem/MainTank/GeneralTank*t_TankSystem/MainTank/GeneralTank + 6.28*\\rho_{Al}_TankSystem/MainTank*r_TankSystem/MainTank/GeneralTank**2*t_TankSystem/MainTank/GeneralTank)],\n",
       "    gpkit.PosynomialInequality(V_TankSystem/MainTank/Water <= 3.14*l_TankSystem/MainTank/GeneralTank*r_TankSystem/MainTank/GeneralTank**2),\n",
       "    gpkit.PosynomialInequality(m_TankSystem/MainTank >= m_TankSystem/MainTank/GeneralTank + m_TankSystem/MainTank/Water)],\n",
       "   [gpkit.PosynomialInequality(T_TankSystem/HeliumTank >= 100),\n",
       "    gpkit.PosynomialInequality(T_TankSystem/HeliumTank <= 400),\n",
       "    gpkit.PosynomialInequality(m_TankSystem/HeliumTank >= m_TankSystem/HeliumTank/GeneralTank + m_{He}_TankSystem/HeliumTank),\n",
       "    [gpkit.PosynomialInequality(r_TankSystem/HeliumTank/GeneralTank <= 5),\n",
       "     gpkit.PosynomialInequality(l_TankSystem/HeliumTank/GeneralTank <= 10),\n",
       "     gpkit.PosynomialInequality(r_TankSystem/HeliumTank/GeneralTank >= 10*t_TankSystem/HeliumTank/GeneralTank),\n",
       "     gpkit.PosynomialInequality(P_{burst}_TankSystem/HeliumTank/GeneralTank >= FOSU_TankSystem/HeliumTank/GeneralTank*P_{He, initial}_TankSystem/HeliumTank*j_{burst}_TankSystem/HeliumTank/GeneralTank + P_{He, initial}_TankSystem/HeliumTank*j_{burst}_TankSystem/HeliumTank/GeneralTank),\n",
       "     gpkit.PosynomialInequality(P_{proof}_TankSystem/HeliumTank/GeneralTank >= FOSY_TankSystem/HeliumTank/GeneralTank*P_{He, initial}_TankSystem/HeliumTank*j_{proof}_TankSystem/HeliumTank/GeneralTank + P_{He, initial}_TankSystem/HeliumTank*j_{proof}_TankSystem/HeliumTank/GeneralTank),\n",
       "     gpkit.MonomialEquality(\\sigma_{vm, proof}_TankSystem/HeliumTank/GeneralTank = 0.866*P_{proof}_TankSystem/HeliumTank/GeneralTank*r_TankSystem/HeliumTank/GeneralTank*t_TankSystem/HeliumTank/GeneralTank**-1),\n",
       "     gpkit.MonomialEquality(\\sigma_{vm, burst}_TankSystem/HeliumTank/GeneralTank = 0.866*P_{burst}_TankSystem/HeliumTank/GeneralTank*r_TankSystem/HeliumTank/GeneralTank*t_TankSystem/HeliumTank/GeneralTank**-1),\n",
       "     gpkit.PosynomialInequality(\\sigma_{vm, proof}_TankSystem/HeliumTank/GeneralTank <= \\sigma_{y, al}_TankSystem/HeliumTank),\n",
       "     gpkit.PosynomialInequality(\\sigma_{vm, burst}_TankSystem/HeliumTank/GeneralTank <= \\sigma_{u, al}_TankSystem/HeliumTank),\n",
       "     gpkit.PosynomialInequality(m_TankSystem/HeliumTank/GeneralTank >= 6.28*\\rho_{Al}_TankSystem/HeliumTank*l_TankSystem/HeliumTank/GeneralTank*r_TankSystem/HeliumTank/GeneralTank*t_TankSystem/HeliumTank/GeneralTank + 6.28*\\rho_{Al}_TankSystem/HeliumTank*r_TankSystem/HeliumTank/GeneralTank**2*t_TankSystem/HeliumTank/GeneralTank)],\n",
       "    [gpkit.MonomialEquality(3.14*P_{He, initial}_TankSystem/HeliumTank*l_TankSystem/HeliumTank/GeneralTank*r_TankSystem/HeliumTank/GeneralTank**2 = 2.08*T_TankSystem/HeliumTank*m_{He}_TankSystem/HeliumTank)]]],\n",
       "  [gpkit.MonomialEquality(3.14*P_{expected}_TankSystem/MainTank*l_TankSystem/MainTank/GeneralTank*r_TankSystem/MainTank/GeneralTank**2 = 2.08*T_TankSystem/MainTank*m_{He}_TankSystem/HeliumTank)],\n",
       "  gpkit.PosynomialInequality(m_TankSystem >= m_TankSystem/HeliumTank + m_TankSystem/MainTank)]]"
      ]
     },
     "execution_count": 17,
     "metadata": {},
     "output_type": "execute_result"
    }
   ],
   "source": [
    "problem"
   ]
  },
  {
   "cell_type": "code",
   "execution_count": 18,
   "metadata": {
    "scrolled": false
   },
   "outputs": [
    {
     "name": "stdout",
     "output_type": "stream",
     "text": [
      "\n",
      "Cost\n",
      "----\n",
      " 360.9 [g]\n",
      "\n",
      "Free Variables\n",
      "--------------\n",
      "                   | TankSystem\n",
      "                 m : 360.9   [g]   mass of full tank system\n",
      "\n",
      "                   | TankSystem/HeliumTank\n",
      "   P_{He, initial} : 119.3   [bar] Initial maximum expected pressure of Helium Tank\n",
      "                 T : 100     [K]   Helium Temperature\n",
      "                 m : 2.411   [g]    Main Tank Mass\n",
      "            m_{He} : 0.2247  [g]   Mass of Helium\n",
      "\n",
      "                   | TankSystem/HeliumTank/GeneralTank\n",
      "         P_{burst} : 358     [bar] burst pressure\n",
      "         P_{proof} : 308.3   [bar] proof pressure\n",
      "\\sigma_{vm, burst} : 310     [MPa] Burst Von misses stress in tank\n",
      "\\sigma_{vm, proof} : 267     [MPa] Proof Von misses stress in tank\n",
      "                 l : 10      [cm]  Tank Length\n",
      "                 m : 2.187   [g]   Mass of tank\n",
      "                 r : 0.3528  [cm]  Tank Radius\n",
      "                 t : 0.3528  [mm]  Tank Thickness\n",
      "\n",
      "                   | TankSystem/MainTank\n",
      "                 m : 358.5   [g]    Main Tank Mass\n",
      "\n",
      "                   | TankSystem/MainTank/GeneralTank\n",
      "         P_{burst} : 12      [bar] burst pressure\n",
      "         P_{proof} : 10.34   [bar] proof pressure\n",
      "\\sigma_{vm, burst} : 310     [MPa] Burst Von misses stress in tank\n",
      "\\sigma_{vm, proof} : 267     [MPa] Proof Von misses stress in tank\n",
      "                 l : 10      [cm]  Tank Length\n",
      "                 m : 8.451   [g]   Mass of tank\n",
      "                 r : 3.338   [cm]  Tank Radius\n",
      "                 t : 0.1119  [mm]  Tank Thickness\n",
      "\n",
      "                   | TankSystem/MainTank/Water\n",
      "                 V : 0.35    [l]   Volume of water\n",
      "                 m : 350     [g]   Mass of water\n",
      "\n",
      "Constants\n",
      "---------\n",
      "               | TankSystem/HeliumTank\n",
      "     \\rho_{Al} : 2.7   [g/cm³] Al tank density\n",
      "\\sigma_{u, al} : 310   [MPa]   Al ultimate strength\n",
      "\\sigma_{y, al} : 276   [MPa]   Al yield strength\n",
      "\n",
      "               | TankSystem/HeliumTank/GeneralTank\n",
      "          FOSU : 1             Factor of Safety: Ultimate\n",
      "          FOSY : 1             Factor of Safety: Yield\n",
      "     j_{burst} : 1.5           burst factor\n",
      "     j_{proof} : 1.25          proof factor\n",
      "\n",
      "               | TankSystem/MainTank\n",
      "  P_{expected} : 4     [bar]   Maximum expected pressure\n",
      "             T : 300   [K]     Temperature of Main Tank\n",
      "     \\rho_{Al} : 2.7   [g/cm³] Al tank density\n",
      "\\sigma_{u, al} : 310   [MPa]   Al ultimate strength\n",
      "\\sigma_{y, al} : 276   [MPa]   Al yield strength\n",
      "\n",
      "               | TankSystem/MainTank/GeneralTank\n",
      "          FOSU : 1             Factor of Safety: Ultimate\n",
      "          FOSY : 1             Factor of Safety: Yield\n",
      "     j_{burst} : 1.5           burst factor\n",
      "     j_{proof} : 1.25          proof factor\n",
      "\n",
      "               | TankSystem/MainTank/Water\n",
      "          \\rho : 1000  [kg/m³] Water density\n",
      "\n",
      "Sensitivities\n",
      "-------------\n",
      "               | TankSystem/HeliumTank\n",
      "\\sigma_{u, al} : -0.0062  Al ultimate strength\n",
      "     \\rho_{Al} : +0.0061  Al tank density\n",
      "\n",
      "               | TankSystem/HeliumTank/GeneralTank\n",
      "     j_{burst} : +0.0062  burst factor\n",
      "          FOSU : +0.0031  Factor of Safety: Ultimate\n",
      "\n",
      "               | TankSystem/MainTank\n",
      "  P_{expected} : +0.03    Maximum expected pressure\n",
      "     \\rho_{Al} : +0.023   Al tank density\n",
      "\\sigma_{u, al} : -0.023   Al ultimate strength\n",
      "             T : -0.0068  Temperature of Main Tank\n",
      "\n",
      "               | TankSystem/MainTank/GeneralTank\n",
      "     j_{burst} : +0.023   burst factor\n",
      "          FOSU : +0.012   Factor of Safety: Ultimate\n",
      "\n",
      "               | TankSystem/MainTank/Water\n",
      "          \\rho : +0.97    Water density\n",
      "\n",
      "Tightest Constraints\n",
      "--------------------\n",
      "       | TankSystem/MainTank/Water\n",
      "    +1 : V_ >= 0.35\n",
      "\n",
      "       | TankSystem\n",
      "    +1 : m_ >= m_/HeliumTank + m_/MainTank\n",
      "\n",
      "       | TankSystem/MainTank\n",
      " +0.99 : m_ >= m_/GeneralTank + m_/Water\n",
      "+0.033 : V_/Water <= 3.14*l_/GeneralTank*r_/GeneralTank**2\n",
      "\n",
      "       | TankSystem/MainTank/GeneralTank\n",
      "+0.023 : P_{burst}_ >= FOSU_*P_{expected}_TankSystem/MainTank*j_{burst}_\n",
      "           + P_{expected}_TankSystem/MainTank*j_{burst}_\n",
      "\n"
     ]
    }
   ],
   "source": [
    "print(problem.solve(verbosity=0).table())"
   ]
  },
  {
   "cell_type": "code",
   "execution_count": null,
   "metadata": {},
   "outputs": [],
   "source": []
  }
 ],
 "metadata": {
  "kernelspec": {
   "display_name": "Python 3",
   "language": "python",
   "name": "python3"
  },
  "language_info": {
   "codemirror_mode": {
    "name": "ipython",
    "version": 3
   },
   "file_extension": ".py",
   "mimetype": "text/x-python",
   "name": "python",
   "nbconvert_exporter": "python",
   "pygments_lexer": "ipython3",
   "version": "3.6.7"
  }
 },
 "nbformat": 4,
 "nbformat_minor": 2
}
